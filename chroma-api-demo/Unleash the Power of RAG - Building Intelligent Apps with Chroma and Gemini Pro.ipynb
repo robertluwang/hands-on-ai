{
 "cells": [
  {
   "cell_type": "markdown",
   "metadata": {},
   "source": [
    "# Unleash the Power of RAG - Building Intelligent Apps with Chroma and Gemini Pro"
   ]
  },
  {
   "cell_type": "markdown",
   "metadata": {},
   "source": [
    "## Introduction\n",
    "\n",
    "The field of Generative AI (GenAI) is rapidly evolving, offering exciting possibilities for applications that interact with and understand human language. One promising approach is Retriever-Augmented Generation (RAG), which combines information retrieval with powerful language models. This blog delves into building a RAG application using Chroma, a vector database, and Gemini Pro, a state-of-the-art large language model from Google.\n",
    "\n",
    "**Chroma: The Key to Efficient Information Retrieval**\n",
    "\n",
    "Chroma serves as the foundation for our RAG application. It's a vector database designed specifically for storing and retrieving vast amounts of data represented as numerical vectors or embeddings. These embeddings capture the semantic meaning of text, enabling Chroma to perform rapid searches based on similarity, rather than exact keyword matches.\n",
    "\n",
    "**Why Chroma is Crucial for GenAI Applications**\n",
    "\n",
    "GenAI applications, like chatbots, question-answering systems, and recommendation engines, rely heavily on processing and understanding information quickly and accurately. Chroma plays a critical role in this process by offering several advantages:\n",
    "\n",
    "- Efficient Information Retrieval: Chroma's vector-based search allows for rapid retrieval of relevant information based on semantic similarity. This is crucial for providing accurate and contextually relevant responses.\n",
    "- Knowledge Base Management: GenAI models often require access to a large knowledge base. Chroma can efficiently store and manage this knowledge, making it readily available for the model to access.\n",
    "- Real-time Performance: Chroma is optimized for speed, enabling real-time interactions with users. This is essential for applications that require immediate responses, such as chatbots or virtual assistants.\n",
    "- Scalability: As the amount of data grows, Chroma can scale to handle increasing workloads, ensuring the continued performance of the GenAI application.\n",
    "\n",
    "In essence, Chroma empowers GenAI applications to deliver exceptional performance and user experiences by effectively managing and accessing information."
   ]
  },
  {
   "cell_type": "markdown",
   "metadata": {},
   "source": [
    "## Building a RAG App with Gemini Pro API"
   ]
  },
  {
   "cell_type": "markdown",
   "metadata": {},
   "source": [
    "Now, let's get hands-on and build a RAG application using Chroma and Gemini Pro. We'll cover the installation process, explore code examples, and see how these tools work together."
   ]
  },
  {
   "cell_type": "markdown",
   "metadata": {},
   "source": [
    "**Installation**"
   ]
  },
  {
   "cell_type": "code",
   "execution_count": null,
   "metadata": {},
   "outputs": [],
   "source": [
    "!pip install -U -q google-generativeai   \n",
    "!pip install -q chromadb"
   ]
  },
  {
   "cell_type": "markdown",
   "metadata": {},
   "source": [
    "**Import packages**"
   ]
  },
  {
   "cell_type": "code",
   "execution_count": 184,
   "metadata": {},
   "outputs": [],
   "source": [
    "import textwrap\n",
    "import chromadb\n",
    "import numpy as np\n",
    "import pandas as pd\n",
    "\n",
    "import google.generativeai as genai\n",
    "\n",
    "from IPython.display import Markdown\n",
    "from chromadb import Documents, EmbeddingFunction, Embeddings"
   ]
  },
  {
   "cell_type": "markdown",
   "metadata": {},
   "source": [
    "**Setup API key**\n",
    "Put Gemini API key in .env under current folder,\n",
    "```\n",
    "GOOGLE_API_KEY=xxx\n",
    "```"
   ]
  },
  {
   "cell_type": "code",
   "execution_count": 185,
   "metadata": {},
   "outputs": [],
   "source": [
    "import os\n",
    "\n",
    "from dotenv import load_dotenv\n",
    "\n",
    "load_dotenv()\n",
    "\n",
    "genai.configure(api_key=os.environ[\"GOOGLE_API_KEY\"])"
   ]
  },
  {
   "cell_type": "markdown",
   "metadata": {},
   "source": [
    "**list supported embedding models**"
   ]
  },
  {
   "cell_type": "code",
   "execution_count": 186,
   "metadata": {},
   "outputs": [
    {
     "name": "stdout",
     "output_type": "stream",
     "text": [
      "models/embedding-001\n",
      "models/text-embedding-004\n"
     ]
    }
   ],
   "source": [
    "for m in genai.list_models():\n",
    "  if 'embedContent' in m.supported_generation_methods:\n",
    "    print(m.name)"
   ]
  },
  {
   "cell_type": "markdown",
   "metadata": {},
   "source": [
    "**Sample data**\n",
    "\n",
    "We use documents list to hold reference document, each item is a string, represents one short text document or chunk of long text document."
   ]
  },
  {
   "cell_type": "code",
   "execution_count": 187,
   "metadata": {},
   "outputs": [
    {
     "data": {
      "text/plain": [
       "['Gemini is the result of large-scale collaborative efforts by teams across Google, including our colleagues at Google Research. It was built from the ground up to be multimodal, which means it can generalize and seamlessly understand, operate across and combine different types of information including text, code, audio, image and video.',\n",
       " 'We designed Gemini to be natively multimodal, pre-trained from the start on different modalities. Then we fine-tuned it with additional multimodal data to further refine its effectiveness. This helps Gemini seamlessly understand and reason about all kinds of inputs from the ground up, far better than existing multimodal models — and its capabilities are state of the art in nearly every domain.',\n",
       " 'Gemini has the most comprehensive safety evaluations of any Google AI model to date, including for bias and toxicity. We’ve conducted novel research into potential risk areas like cyber-offense, persuasion and autonomy, and have applied Google Research’s best-in-class adversarial testing techniques to help identify critical safety issues in advance of Gemini’s deployment.']"
      ]
     },
     "execution_count": 187,
     "metadata": {},
     "output_type": "execute_result"
    }
   ],
   "source": [
    "DOCUMENT1 = \"Gemini is the result of large-scale collaborative efforts by teams across Google, including our colleagues at Google Research. It was built from the ground up to be multimodal, which means it can generalize and seamlessly understand, operate across and combine different types of information including text, code, audio, image and video.\"\n",
    "DOCUMENT2 = \"We designed Gemini to be natively multimodal, pre-trained from the start on different modalities. Then we fine-tuned it with additional multimodal data to further refine its effectiveness. This helps Gemini seamlessly understand and reason about all kinds of inputs from the ground up, far better than existing multimodal models — and its capabilities are state of the art in nearly every domain.\"\n",
    "DOCUMENT3 = \"Gemini has the most comprehensive safety evaluations of any Google AI model to date, including for bias and toxicity. We’ve conducted novel research into potential risk areas like cyber-offense, persuasion and autonomy, and have applied Google Research’s best-in-class adversarial testing techniques to help identify critical safety issues in advance of Gemini’s deployment.\"\n",
    "documents = [DOCUMENT1, DOCUMENT2, DOCUMENT3]\n",
    "documents"
   ]
  },
  {
   "cell_type": "markdown",
   "metadata": {},
   "source": [
    "**Embeddings with model embedding-001**"
   ]
  },
  {
   "cell_type": "code",
   "execution_count": 188,
   "metadata": {},
   "outputs": [],
   "source": [
    "class GeminiEmbeddingFunction(EmbeddingFunction):\n",
    "  def __call__(self, input: Documents) -> Embeddings:\n",
    "    model = 'models/embedding-001'\n",
    "    title = \"Custom query\"\n",
    "    return genai.embed_content(model=model,\n",
    "                                content=input,\n",
    "                                task_type=\"retrieval_document\",\n",
    "                                title=title)[\"embedding\"]"
   ]
  },
  {
   "cell_type": "markdown",
   "metadata": {},
   "source": [
    "This is a custom class named `GeminiEmbeddingFunction` that implements the `EmbeddingFunction` interface. This class is designed to interact with the Gemini language model to generate embeddings for text documents.\n",
    "\n",
    "1. **Class Definition:**\n",
    "\n",
    "   - `GeminiEmbeddingFunction(EmbeddingFunction)`: This line declares the class `GeminiEmbeddingFunction` and indicates that it inherits from the `EmbeddingFunction` class. This means it must implement the `__call__` method.\n",
    "\n",
    "2. **`__call__` Method:**\n",
    "\n",
    "   - `def __call__(self, input: Documents) -> Embeddings`: This is the method that is called when an instance of the class is used as a function. It takes an `input` parameter of type `Documents` (which is presumably a data structure representing a list of documents) and returns an `Embeddings` object.\n",
    "\n",
    "3. **Model Selection:**\n",
    "\n",
    "   - `model = 'models/embedding-001'`: This line sets the `model` variable to the string 'models/embedding-001'. This likely refers to a specific embedding model within the Gemini language model framework.\n",
    "\n",
    "4. **Title Setting:**\n",
    "\n",
    "   - `title = \"Custom query\"`: This line sets the `title` variable to the string \"Custom query\". This might be used as a metadata field for the embedding.\n",
    "\n",
    "5. **Embedding Generation:**\n",
    "\n",
    "   - `return genai.embed_content(model=model, content=input, task_type=\"retrieval_document\", title=title)[\"embedding\"]`: This line calls the `genai.embed_content` function from the `genai` module. It passes the following arguments:\n",
    "     - `model`: The selected embedding model ('models/embedding-001').\n",
    "     - `content`: The input documents to be embedded.\n",
    "     - `task_type`: Specifies the task for which the embeddings are being generated. In this case, it's set to \"retrieval_document\", indicating that the embeddings will be used for document retrieval.\n",
    "     - `title`: The custom title for the embedding.\n",
    "   - The function returns a dictionary containing the embeddings and other metadata. The code extracts the 'embedding' key from this dictionary and returns it as the result of the `__call__` method.\n",
    "\n",
    "We define a function that can be used to generate embeddings for a list of documents using the Gemini language model. The embeddings can then be used for various tasks, such as semantic search or document similarity calculations.\n"
   ]
  },
  {
   "cell_type": "markdown",
   "metadata": {},
   "source": [
    "**Create chroma db**"
   ]
  },
  {
   "cell_type": "code",
   "execution_count": 201,
   "metadata": {},
   "outputs": [],
   "source": [
    "def create_chroma_db(documents, name):\n",
    "  chroma_client = chromadb.Client()\n",
    "  db = chroma_client.create_collection(name=name, embedding_function=GeminiEmbeddingFunction())\n",
    "\n",
    "  for i, d in enumerate(documents):\n",
    "    db.add(\n",
    "      documents=d,\n",
    "      ids=str(i)\n",
    "    )\n",
    "  return db"
   ]
  },
  {
   "cell_type": "markdown",
   "metadata": {},
   "source": [
    "**Setup vector db**"
   ]
  },
  {
   "cell_type": "markdown",
   "metadata": {},
   "source": [
    "list and clean up old db"
   ]
  },
  {
   "cell_type": "code",
   "execution_count": 202,
   "metadata": {},
   "outputs": [],
   "source": [
    "client = chromadb.Client()"
   ]
  },
  {
   "cell_type": "code",
   "execution_count": 203,
   "metadata": {},
   "outputs": [
    {
     "data": {
      "text/plain": [
       "[Collection(name=geminidb)]"
      ]
     },
     "execution_count": 203,
     "metadata": {},
     "output_type": "execute_result"
    }
   ],
   "source": [
    "collections = client.list_collections\n",
    "client.list_collections()"
   ]
  },
  {
   "cell_type": "code",
   "execution_count": 204,
   "metadata": {},
   "outputs": [
    {
     "name": "stdout",
     "output_type": "stream",
     "text": [
      "geminidb\n"
     ]
    }
   ],
   "source": [
    "for collection_name in (collection.name for collection in collections()):\n",
    "    print(collection_name.strip())"
   ]
  },
  {
   "cell_type": "code",
   "execution_count": 205,
   "metadata": {},
   "outputs": [
    {
     "name": "stdout",
     "output_type": "stream",
     "text": [
      "Collection 'geminidb' exists, will remove it.\n"
     ]
    }
   ],
   "source": [
    "for collection_name in (collection.name for collection in collections()):\n",
    "    if collection_name.strip() == \"geminidb\":\n",
    "        print(\"Collection 'geminidb' exists, will remove it.\")\n",
    "        client.delete_collection(name=\"geminidb\")\n",
    "    else:\n",
    "        print(\"Collection 'geminidb' does not exist.\")"
   ]
  },
  {
   "cell_type": "code",
   "execution_count": 206,
   "metadata": {},
   "outputs": [
    {
     "data": {
      "text/plain": [
       "[]"
      ]
     },
     "execution_count": 206,
     "metadata": {},
     "output_type": "execute_result"
    }
   ],
   "source": [
    "client.list_collections()"
   ]
  },
  {
   "cell_type": "code",
   "execution_count": null,
   "metadata": {
    "scrolled": true
   },
   "outputs": [],
   "source": [
    "db = create_chroma_db(documents, \"geminidb\")"
   ]
  },
  {
   "cell_type": "markdown",
   "metadata": {},
   "source": [
    "**Verify db**"
   ]
  },
  {
   "cell_type": "markdown",
   "metadata": {},
   "source": [
    "You might find embeddings is None from db.get(). When using get or query you can use the include parameter to specify which data you want returned - any of embeddings, documents, metadatas, and for query, distances. By default, Chroma will return the documents, metadatas and in the case of query, the distances of the results. embeddings are excluded by default for performance and the ids are always returned."
   ]
  },
  {
   "cell_type": "code",
   "execution_count": null,
   "metadata": {},
   "outputs": [],
   "source": [
    "db.get(include=['embeddings', 'documents', 'metadatas'])"
   ]
  },
  {
   "cell_type": "code",
   "execution_count": null,
   "metadata": {},
   "outputs": [],
   "source": [
    "{'ids': ['0', '1', '2'],\n",
    " 'embeddings': [[0.04447142407298088,\n",
    "   -0.052165351808071136,\n",
    "   -0.061552658677101135,\n",
    "......\n",
    "   -0.04504038393497467,\n",
    "   0.005292229354381561]],\n",
    " 'metadatas': [None, None, None],\n",
    " 'documents': ['Gemini is the result of large-scale collaborative efforts by teams across Google, including our colleagues at Google Research. It was built from the ground up to be multimodal, which means it can generalize and seamlessly understand, operate across and combine different types of information including text, code, audio, image and video.',\n",
    "  'We designed Gemini to be natively multimodal, pre-trained from the start on different modalities. Then we fine-tuned it with additional multimodal data to further refine its effectiveness. This helps Gemini seamlessly understand and reason about all kinds of inputs from the ground up, far better than existing multimodal models — and its capabilities are state of the art in nearly every domain.',\n",
    "  'Gemini has the most comprehensive safety evaluations of any Google AI model to date, including for bias and toxicity. We’ve conducted novel research into potential risk areas like cyber-offense, persuasion and autonomy, and have applied Google Research’s best-in-class adversarial testing techniques to help identify critical safety issues in advance of Gemini’s deployment.'],\n",
    " 'uris': None,\n",
    " 'data': None}"
   ]
  },
  {
   "cell_type": "code",
   "execution_count": null,
   "metadata": {
    "scrolled": true
   },
   "outputs": [],
   "source": [
    "db.get(include=['embeddings', 'documents', 'metadatas'])['embeddings']"
   ]
  },
  {
   "cell_type": "code",
   "execution_count": 210,
   "metadata": {},
   "outputs": [
    {
     "data": {
      "text/html": [
       "<div>\n",
       "<style scoped>\n",
       "    .dataframe tbody tr th:only-of-type {\n",
       "        vertical-align: middle;\n",
       "    }\n",
       "\n",
       "    .dataframe tbody tr th {\n",
       "        vertical-align: top;\n",
       "    }\n",
       "\n",
       "    .dataframe thead th {\n",
       "        text-align: right;\n",
       "    }\n",
       "</style>\n",
       "<table border=\"1\" class=\"dataframe\">\n",
       "  <thead>\n",
       "    <tr style=\"text-align: right;\">\n",
       "      <th></th>\n",
       "      <th>ids</th>\n",
       "      <th>embeddings</th>\n",
       "      <th>metadatas</th>\n",
       "      <th>documents</th>\n",
       "      <th>uris</th>\n",
       "      <th>data</th>\n",
       "    </tr>\n",
       "  </thead>\n",
       "  <tbody>\n",
       "    <tr>\n",
       "      <th>0</th>\n",
       "      <td>0</td>\n",
       "      <td>[0.04447142407298088, -0.052165351808071136, -...</td>\n",
       "      <td>None</td>\n",
       "      <td>Gemini is the result of large-scale collaborat...</td>\n",
       "      <td>None</td>\n",
       "      <td>None</td>\n",
       "    </tr>\n",
       "    <tr>\n",
       "      <th>1</th>\n",
       "      <td>1</td>\n",
       "      <td>[0.05980474501848221, -0.05400879308581352, -0...</td>\n",
       "      <td>None</td>\n",
       "      <td>We designed Gemini to be natively multimodal, ...</td>\n",
       "      <td>None</td>\n",
       "      <td>None</td>\n",
       "    </tr>\n",
       "    <tr>\n",
       "      <th>2</th>\n",
       "      <td>2</td>\n",
       "      <td>[0.017100121825933456, -0.06025487929582596, -...</td>\n",
       "      <td>None</td>\n",
       "      <td>Gemini has the most comprehensive safety evalu...</td>\n",
       "      <td>None</td>\n",
       "      <td>None</td>\n",
       "    </tr>\n",
       "  </tbody>\n",
       "</table>\n",
       "</div>"
      ],
      "text/plain": [
       "  ids                                         embeddings metadatas  \\\n",
       "0   0  [0.04447142407298088, -0.052165351808071136, -...      None   \n",
       "1   1  [0.05980474501848221, -0.05400879308581352, -0...      None   \n",
       "2   2  [0.017100121825933456, -0.06025487929582596, -...      None   \n",
       "\n",
       "                                           documents  uris  data  \n",
       "0  Gemini is the result of large-scale collaborat...  None  None  \n",
       "1  We designed Gemini to be natively multimodal, ...  None  None  \n",
       "2  Gemini has the most comprehensive safety evalu...  None  None  "
      ]
     },
     "execution_count": 210,
     "metadata": {},
     "output_type": "execute_result"
    }
   ],
   "source": [
    "pd.DataFrame(db.peek(3))"
   ]
  },
  {
   "cell_type": "markdown",
   "metadata": {},
   "source": [
    "**Getting the relevant document**"
   ]
  },
  {
   "cell_type": "code",
   "execution_count": 211,
   "metadata": {},
   "outputs": [],
   "source": [
    "def get_relevant_passage(query, db):\n",
    "  passage = db.query(query_texts=[query], n_results=1)['documents'][0][0]\n",
    "  return passage"
   ]
  },
  {
   "cell_type": "markdown",
   "metadata": {},
   "source": [
    "**Perform embedding search**"
   ]
  },
  {
   "cell_type": "code",
   "execution_count": 212,
   "metadata": {},
   "outputs": [
    {
     "data": {
      "text/markdown": [
       "Gemini has the most comprehensive safety evaluations of any Google AI model to date, including for bias and toxicity. We’ve conducted novel research into potential risk areas like cyber-offense, persuasion and autonomy, and have applied Google Research’s best-in-class adversarial testing techniques to help identify critical safety issues in advance of Gemini’s deployment."
      ],
      "text/plain": [
       "<IPython.core.display.Markdown object>"
      ]
     },
     "execution_count": 212,
     "metadata": {},
     "output_type": "execute_result"
    }
   ],
   "source": [
    "passage = get_relevant_passage(\"safety\", db)\n",
    "Markdown(passage)"
   ]
  },
  {
   "cell_type": "markdown",
   "metadata": {},
   "source": [
    "**Make a prompt**"
   ]
  },
  {
   "cell_type": "code",
   "execution_count": 213,
   "metadata": {},
   "outputs": [],
   "source": [
    "def make_prompt(query, relevant_passage):\n",
    "  escaped = relevant_passage.replace(\"'\", \"\").replace('\"', \"\").replace(\"\\n\", \" \")\n",
    "  prompt = (\"\"\"You are a helpful and informative bot that answers questions using text from the reference passage included below. \\\n",
    "  Be sure to respond in a complete sentence, being comprehensive, including all relevant background information. \\\n",
    "  However, you are talking to a non-technical audience, so be sure to break down complicated concepts and \\\n",
    "  strike a friendly and converstional tone. \\\n",
    "  If the passage is irrelevant to the answer, you may ignore it.\n",
    "  QUESTION: '{query}'\n",
    "  PASSAGE: '{relevant_passage}'\n",
    "\n",
    "    ANSWER:\n",
    "  \"\"\").format(query=query, relevant_passage=escaped)\n",
    "\n",
    "  return prompt"
   ]
  },
  {
   "cell_type": "markdown",
   "metadata": {},
   "source": [
    "**Pass a query to the prompt**"
   ]
  },
  {
   "cell_type": "code",
   "execution_count": 214,
   "metadata": {},
   "outputs": [
    {
     "data": {
      "text/markdown": [
       "You are a helpful and informative bot that answers questions using text from the reference passage included below.   Be sure to respond in a complete sentence, being comprehensive, including all relevant background information.   However, you are talking to a non-technical audience, so be sure to break down complicated concepts and   strike a friendly and converstional tone.   If the passage is irrelevant to the answer, you may ignore it.\n",
       "  QUESTION: 'what is safety evaluations for gemini?'\n",
       "  PASSAGE: 'Gemini has the most comprehensive safety evaluations of any Google AI model to date, including for bias and toxicity. We’ve conducted novel research into potential risk areas like cyber-offense, persuasion and autonomy, and have applied Google Research’s best-in-class adversarial testing techniques to help identify critical safety issues in advance of Gemini’s deployment.'\n",
       "\n",
       "    ANSWER:\n",
       "  "
      ],
      "text/plain": [
       "<IPython.core.display.Markdown object>"
      ]
     },
     "execution_count": 214,
     "metadata": {},
     "output_type": "execute_result"
    }
   ],
   "source": [
    "query = \"what is safety evaluations for gemini?\"\n",
    "prompt = make_prompt(query, passage)\n",
    "Markdown(prompt)"
   ]
  },
  {
   "cell_type": "markdown",
   "metadata": {},
   "source": [
    "**Generate a response**"
   ]
  },
  {
   "cell_type": "code",
   "execution_count": 215,
   "metadata": {},
   "outputs": [
    {
     "data": {
      "text/markdown": [
       "Gemini, a Google AI model, has undergone rigorous safety evaluations to ensure its responsible use. These evaluations encompass a wide range of potential risks, such as bias, toxicity, and even the possibility of misuse for offensive or manipulative purposes. To mitigate these risks, Google Research has employed advanced adversarial testing techniques to identify and address critical safety issues before Gemini's deployment."
      ],
      "text/plain": [
       "<IPython.core.display.Markdown object>"
      ]
     },
     "execution_count": 215,
     "metadata": {},
     "output_type": "execute_result"
    }
   ],
   "source": [
    "model = genai.GenerativeModel('gemini-pro')\n",
    "answer = model.generate_content(prompt)\n",
    "Markdown(answer.text)"
   ]
  },
  {
   "cell_type": "markdown",
   "metadata": {},
   "source": [
    "## Build RAG chatbot using Chroma - wraping to class for easy integration "
   ]
  },
  {
   "cell_type": "markdown",
   "metadata": {},
   "source": [
    "**GeminiEmbeddingFunction**: This class defines a custom function to generate embeddings for the input documents using Google's generative AI model.\n",
    "\n",
    "**RAGChatBot**: This class represents the core of the chatbot functionality.\n",
    "\n",
    "- __init__: Initializes various properties like environment path, database name, list of documents, subject, embedding function, query, passage, model name, model object, chat history, and a ChromaDB client object.\n",
    "- create_chroma_db: Creates a ChromaDB collection named geminidb (or deletes an existing one) and adds the provided documents with their IDs.\n",
    "- get_relevant_passage: Retrieves the most relevant document (passage) from the ChromaDB collection based on the user's query.\n",
    "- make_prompt: Constructs a formatted prompt for the generative model, including the user's question, the retrieved passage, and other information.\n",
    "- log_chat_history: Saves the chat history to a text file with a timestamp.\n",
    "- ragchat: The main function that drives the chatbot interaction:\n",
    "\n",
    "**Main Execution**:\n",
    "\n",
    "- Creates an instance of the RAGChatBot class.\n",
    "- Defines sample documents and sets the subject.\n",
    "- Assigns the documents and subject to the chatbot instance.\n",
    "- Calls the ragchat function on the chatbot instance to initiate the conversation.\n",
    "\n",
    "We implement a Retrieval-Augmented Generation (RAG) based chatbot that utilizes Google's generative AI model to answer user questions in a comprehensive and informative way, considering relevant information from a provided document set\n"
   ]
  },
  {
   "cell_type": "code",
   "execution_count": 242,
   "metadata": {
    "scrolled": true
   },
   "outputs": [
    {
     "name": "stdout",
     "output_type": "stream",
     "text": [
      "Welcome to Gemini RAG Chatbot ! ('/q' to exit)\n",
      "Based on doc set of subject: 'Gemini intro'\n",
      "\n"
     ]
    },
    {
     "name": "stdin",
     "output_type": "stream",
     "text": [
      "1 You:  safety\n"
     ]
    },
    {
     "name": "stdout",
     "output_type": "stream",
     "text": [
      "prompt: You are a helpful and informative bot that answers questions using text from the reference passage included below.      Be sure to respond in a complete sentence, being comprehensive, including all relevant background information.      However, you are talking to a non-technical audience, so be sure to break down complicated concepts and      strike a friendly and converstional tone.      If the passage is irrelevant to the answer, you may ignore it.\n",
      "      QUESTION: 'safety'\n",
      "      PASSAGE: 'Gemini has the most comprehensive safety evaluations of any Google AI model to date, including for bias and toxicity. We’ve conducted novel research into potential risk areas like cyber-offense, persuasion and autonomy, and have applied Google Research’s best-in-class adversarial testing techniques to help identify critical safety issues in advance of Gemini’s deployment.'\n",
      "      ANSWER:\n",
      "      \n",
      "\n",
      "1 RAG Chatbot: Gemini has undergone extensive safety evaluations, more than any other Google AI model before it, to ensure its responsible use. \n",
      "\n"
     ]
    },
    {
     "name": "stdin",
     "output_type": "stream",
     "text": [
      "2 You:  /q\n"
     ]
    },
    {
     "name": "stdout",
     "output_type": "stream",
     "text": [
      "chat log file: ./log/chat-log-2024-08-25_00-13-03.txt\n",
      "Chat history saved. Exiting.\n"
     ]
    }
   ],
   "source": [
    "# gemini-rag-chatbot.py\n",
    "# - Generative AI Gemini Chatbot\n",
    "# - RAG Chatbot using ChromaDB\n",
    "# @robertluwang\n",
    "# Aug 2024\n",
    "\n",
    "import textwrap\n",
    "import chromadb\n",
    "import numpy as np\n",
    "import pandas as pd\n",
    "import datetime\n",
    "\n",
    "import google.generativeai as genai\n",
    "\n",
    "from chromadb import Documents, EmbeddingFunction, Embeddings\n",
    "\n",
    "import os\n",
    "\n",
    "from dotenv import load_dotenv\n",
    "\n",
    "class GeminiEmbeddingFunction(EmbeddingFunction):\n",
    "    def __call__(self, input: Documents) -> Embeddings:\n",
    "        model = 'models/embedding-001'\n",
    "        title = \"Custom query\"\n",
    "        return genai.embed_content(model=model,\n",
    "                                   content=input,\n",
    "                                   task_type=\"retrieval_document\",\n",
    "                                   title=title)[\"embedding\"]\n",
    "class RAGChatBot:\n",
    "    def __init__(self):\n",
    "        self.envpath = '~'\n",
    "        self.envfile = '.env'\n",
    "\n",
    "        if self.envpath == '~':\n",
    "            self.envpath = os.path.expanduser(\"~\")\n",
    "        \n",
    "        load_dotenv(os.path.join(self.envpath, self.envfile))\n",
    "\n",
    "        genai.configure(api_key=os.getenv(\"GOOGLE_API_KEY\"))\n",
    "\n",
    "        self.dbname = 'geminidb'\n",
    "        self.db = None\n",
    "        self.documents = []\n",
    "        self.subject = ''\n",
    "        self.embedding_function = GeminiEmbeddingFunction()\n",
    "        self.query = ''\n",
    "        self.passage = ''\n",
    "        self.model_name = 'gemini-1.5-flash'\n",
    "        self.model = genai.GenerativeModel(self.model_name)\n",
    "        self.chat_history = []\n",
    "\n",
    "        self.chroma_client = chromadb.Client() \n",
    "\n",
    "    def create_chroma_db(self):\n",
    "        collections = self.chroma_client.list_collections\n",
    "        for collection_name in (collection.name for collection in collections()):\n",
    "            if collection_name.strip() == self.dbname:\n",
    "                #print(f\"Collection '{self.dbname}' exists, will remove it.\")\n",
    "                self.chroma_client.delete_collection(name=self.dbname)\n",
    "        \n",
    "        self.db = self.chroma_client.create_collection(name=self.dbname, embedding_function=self.embedding_function)\n",
    "        \n",
    "        for i, d in enumerate(self.documents):\n",
    "            self.db.add(\n",
    "              documents=d,\n",
    "              ids=str(i)\n",
    "            )\n",
    "        return self.db\n",
    "   \n",
    "    def get_relevant_passage(self):\n",
    "      self.passage = self.db.query(query_texts=[self.query], n_results=1)['documents'][0][0]\n",
    "      return self.passage\n",
    "\n",
    "    def make_prompt(self):\n",
    "      escaped = self.passage.replace(\"'\", \"\").replace('\"', \"\").replace(\"\\n\", \" \")\n",
    "      prompt = (\"\"\"You are a helpful and informative bot that answers questions using text from the reference passage included below.\\\n",
    "      Be sure to respond in a complete sentence, being comprehensive, including all relevant background information.\\\n",
    "      However, you are talking to a non-technical audience, so be sure to break down complicated concepts and\\\n",
    "      strike a friendly and converstional tone.\\\n",
    "      If the passage is irrelevant to the answer, you may ignore it.\n",
    "      QUESTION: '{query}'\n",
    "      PASSAGE: '{passage}'\n",
    "      ANSWER:\n",
    "      \"\"\").format(query=self.query, passage=escaped)\n",
    "\n",
    "      return prompt\n",
    "        \n",
    "    def log_chat_history(self,logpath):\n",
    "        timestamp = datetime.datetime.now().strftime(\"%Y-%m-%d_%H-%M-%S\")\n",
    "        log_filename = f\"chat-log-{timestamp}.txt\"\n",
    "        log_path = os.path.join(logpath, log_filename)\n",
    "\n",
    "        os.makedirs(logpath, exist_ok=True)\n",
    "\n",
    "        with open(log_path, \"w\") as f:\n",
    "            for message in self.chat_history:\n",
    "                f.write(f\"{message}\\n\")\n",
    "        \n",
    "        print(f\"chat log file: {log_path}\")\n",
    "        \n",
    "    def ragchat(self):\n",
    "\n",
    "        self.db = self.create_chroma_db()\n",
    "\n",
    "        n=1 # input number\n",
    "        print(\"Welcome to Gemini RAG Chatbot ! ('/q' to exit)\")\n",
    "        self.chat_history.append(f\"Welcome to Gemini RAG Chatbot ! ('/q' to exit)\")\n",
    "        print(f\"Based on doc set of subject: '{self.subject}'\\n\")\n",
    "        self.chat_history.append(f\"Based on doc set of subject: '{self.subject}'\\n\")\n",
    "        while True:\n",
    "            self.query = input(f\"{n} You: \")\n",
    "\n",
    "            if not self.query:  # Check if input is empty (only Enter pressed)\n",
    "                continue  # Skip processing empty input\n",
    "            \n",
    "            self.chat_history.append(f\"{n} You: {self.query}\\n\")\n",
    "                \n",
    "            if self.query.lower() == \"/q\":\n",
    "                self.log_chat_history('./log')\n",
    "                print(\"Chat history saved. Exiting.\")\n",
    "                break\n",
    "            \n",
    "            self.passage = self.get_relevant_passage()\n",
    "\n",
    "            prompt = self.make_prompt()\n",
    "            print(f\"prompt: {prompt}\\n\")\n",
    "\n",
    "            response = self.model.generate_content(prompt)\n",
    "            print(f\"{n} RAG Chatbot: {response.text}\")\n",
    "            self.chat_history.append(f\"{n} RAG Chatbot: {response.text}\")\n",
    "            n += 1\n",
    "\n",
    "if __name__ == \"__main__\":\n",
    "    ragchatbot = RAGChatBot()\n",
    "\n",
    "    #ragchatbot.model_name = \"gemini-1.5-flash\"\n",
    "    #ragchatbot.dbname = \"geminidb\"\n",
    "    DOCUMENT1 = \"Gemini is the result of large-scale collaborative efforts by teams across Google, including our colleagues at Google Research. It was built from the ground up to be multimodal, which means it can generalize and seamlessly understand, operate across and combine different types of information including text, code, audio, image and video.\"\n",
    "    DOCUMENT2 = \"We designed Gemini to be natively multimodal, pre-trained from the start on different modalities. Then we fine-tuned it with additional multimodal data to further refine its effectiveness. This helps Gemini seamlessly understand and reason about all kinds of inputs from the ground up, far better than existing multimodal models — and its capabilities are state of the art in nearly every domain.\"\n",
    "    DOCUMENT3 = \"Gemini has the most comprehensive safety evaluations of any Google AI model to date, including for bias and toxicity. We’ve conducted novel research into potential risk areas like cyber-offense, persuasion and autonomy, and have applied Google Research’s best-in-class adversarial testing techniques to help identify critical safety issues in advance of Gemini’s deployment.\"\n",
    "    ragchatbot.documents = [DOCUMENT1, DOCUMENT2, DOCUMENT3]\n",
    "    ragchatbot.subject = 'Gemini intro'\n",
    "\n",
    "    ragchatbot.ragchat()"
   ]
  },
  {
   "cell_type": "markdown",
   "metadata": {},
   "source": [
    "## Conclusion\n",
    "\n",
    "This blog has demonstrated how Chroma and Gemini Pro can be combined to create a powerful RAG application. By leveraging Chroma's efficient information retrieval capabilities and Gemini Pro's advanced language understanding, we can build intelligent applications that can answer questions, generate creative text formats, and provide informative summaries. As GenAI technology continues to evolve, the potential for building even more sophisticated and user-friendly applications becomes increasingly exciting."
   ]
  },
  {
   "cell_type": "code",
   "execution_count": null,
   "metadata": {},
   "outputs": [],
   "source": []
  }
 ],
 "metadata": {
  "kernelspec": {
   "display_name": "Python 3 (ipykernel)",
   "language": "python",
   "name": "python3"
  },
  "language_info": {
   "codemirror_mode": {
    "name": "ipython",
    "version": 3
   },
   "file_extension": ".py",
   "mimetype": "text/x-python",
   "name": "python",
   "nbconvert_exporter": "python",
   "pygments_lexer": "ipython3",
   "version": "3.10.12"
  }
 },
 "nbformat": 4,
 "nbformat_minor": 4
}
