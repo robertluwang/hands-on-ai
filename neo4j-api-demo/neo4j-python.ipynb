{
 "cells": [
  {
   "cell_type": "markdown",
   "metadata": {},
   "source": [
    "# Neo4j Python API Quickstart"
   ]
  },
  {
   "cell_type": "markdown",
   "metadata": {},
   "source": [
    "## Install neo4j server on WSL2\n",
    "Install neo4j server on Ubuntu or WSL2 on windows 10."
   ]
  },
  {
   "cell_type": "code",
   "execution_count": null,
   "metadata": {},
   "outputs": [],
   "source": [
    "!sudo apt-get update && sudo apt-get upgrade -y\n",
    "!sudo apt-get install wget curl nano software-properties-common dirmngr apt-transport-https gnupg gnupg2 ca-certificates lsb-release ubuntu-keyring unzip -y\n",
    "!curl -fsSL https://debian.neo4j.com/neotechnology.gpg.key | sudo gpg --dearmor -o /usr/share/keyrings/neo4j.gpg\n",
    "!echo \"deb [signed-by=/usr/share/keyrings/neo4j.gpg] https://debian.neo4j.com stable latest\" | sudo tee -a /etc/apt/sources.list.d/neo4j.list\n",
    "!sudo apt-get update\n",
    "!sudo apt-get install neo4j -y\n",
    "!sudo systemctl enable --now neo4j"
   ]
  },
  {
   "cell_type": "markdown",
   "metadata": {},
   "source": [
    "verify neo4j running as service at default localhost,"
   ]
  },
  {
   "cell_type": "code",
   "execution_count": 1,
   "metadata": {},
   "outputs": [
    {
     "name": "stdout",
     "output_type": "stream",
     "text": [
      "\u001b[0;1;32m●\u001b[0m neo4j.service - Neo4j Graph Database\n",
      "     Loaded: loaded (\u001b]8;;file://wsl2/lib/systemd/system/neo4j.service\u0007/lib/systemd/system/neo4j.service\u001b]8;;\u0007; enabled; vendor preset: enabled)\n",
      "     Active: \u001b[0;1;32mactive (running)\u001b[0m since Sat 2024-08-03 09:03:53 EDT; 1h 48min ago\n",
      "   Main PID: 117201 (java)\n",
      "      Tasks: 73 (limit: 9528)\n",
      "     Memory: 623.0M\n",
      "     CGroup: /system.slice/neo4j.service\n",
      "             ├─117201 /usr/bin/java -Xmx128m -classpath \"/usr/share/neo4j/lib/*…\n",
      "             └─117250 /usr/lib/jvm/java-21-openjdk-amd64/bin/java -cp \"/var/lib…\n",
      "\n",
      "Aug 03 09:04:00 wsl2 neo4j[117250]: 2024-08-03 13:04:00.414+0000 INFO  Anon…ata/\n",
      "Aug 03 09:04:00 wsl2 neo4j[117250]: 2024-08-03 13:04:00.450+0000 INFO  Bolt…687.\n",
      "Aug 03 09:04:01 wsl2 neo4j[117250]: 2024-08-03 13:04:01.101+0000 INFO  HTTP…474.\n",
      "Aug 03 09:04:01 wsl2 neo4j[117250]: 2024-08-03 13:04:01.102+0000 INFO  Remo…474/\n",
      "Aug 03 09:04:01 wsl2 neo4j[117250]: 2024-08-03 13:04:01.105+0000 INFO  id: …738A\n",
      "Aug 03 09:04:01 wsl2 neo4j[117250]: 2024-08-03 13:04:01.106+0000 INFO  name…stem\n",
      "Aug 03 09:04:01 wsl2 neo4j[117250]: 2024-08-03 13:04:01.106+0000 INFO  crea…488Z\n",
      "Aug 03 09:04:01 wsl2 neo4j[117250]: 2024-08-03 13:04:01.106+0000 INFO  Started.\n",
      "Aug 03 09:04:09 wsl2 neo4j[117250]: 2024-08-03 13:04:09.985+0000 WARN  [bol…ure.\n",
      "Aug 03 10:31:38 wsl2 neo4j[117250]: 2024-08-03 14:31:38.570+0000 WARN  [bol…ure.\n",
      "Hint: Some lines were ellipsized, use -l to show in full.\n"
     ]
    }
   ],
   "source": [
    "!systemctl status neo4j"
   ]
  },
  {
   "cell_type": "markdown",
   "metadata": {},
   "source": [
    "## Connection to neo4j in CLI\n",
    "\n",
    "First time will ask you reset password, if password less than 8 characters, then both default password and new password not working, \n",
    "```\n",
    "oldhorse@wsl2:$ cypher-shell -a 'neo4j://localhost:7687'\n",
    "username: neo4j\n",
    "password: \n",
    "Password change required\n",
    "new password: \n",
    "confirm password: \n",
    "A password must be at least 8 characters.\n",
    "oldhorse@wsl2:$ cypher-shell -a 'neo4j://localhost:7687'\n",
    "username: neo4j\n",
    "password: \n",
    "The client is unauthorized due to authentication failure.\n",
    "```\n",
    "\n",
    "As remedy, need to reset neo4j init password manually following below guide,\n",
    "https://neo4j.com/docs/operations-manual/current/authentication-authorization/password-and-user-recovery/\n",
    "\n",
    "- stop neo4j \n",
    "`sudo systemctl stop neo4j`\n",
    "- enable line in /etc/neo4j/neo4j.conf\n",
    "`dbms.security.auth_enabled=false`\n",
    "- start neo4j\n",
    "`sudo systemctl start neo4j`\n",
    "- recovery lost password\n",
    "```\n",
    "cypher-shell -d system\n",
    "@system> ALTER USER neo4j SET PASSWORD 'mypassword';\n",
    "@system>:exit;\n",
    "```\n",
    "At this point, your init password has been reset to 'mypassword', you need to stop neo4j; comment out `dbms.security.auth_enabled=false`; start neo4j.\n",
    "\n",
    "Access to neo4j server again, will ask you change password, carefully reset new password longer than 8 chrarcters.\n",
    "```\n",
    "cypher-shell -a 'neo4j://localhost:7687'\n",
    "```"
   ]
  },
  {
   "cell_type": "markdown",
   "metadata": {},
   "source": [
    "## Cypher cli demo for neo4j db\n",
    "\n",
    "```\n",
    "create node\n",
    "neo4j@neo4j> create (:Person {name:'Janet'});\n",
    "Added 1 nodes, Set 1 properties, Added 1 labels\n",
    "\n",
    "neo4j@neo4j> create (:Person {name:'Robert'});\n",
    "Added 1 nodes, Set 1 properties, Added 1 labels\n",
    "\n",
    "update db\n",
    "neo4j@neo4j> match (p:Person {name:'Janet'}) set p.age=18;\n",
    "Set 1 properties\n",
    "\n",
    "query db\n",
    "neo4j@neo4j> match (p:Person) return p.name,p.age;\n",
    "+-----------------+\n",
    "| p.name  | p.age |\n",
    "+-----------------+\n",
    "| \"Robert\"   | NULL  |\n",
    "| \"Janet\" | 18    |\n",
    "+-----------------+\n",
    "\n",
    "neo4j@neo4j> match (n) return n;\n",
    "+------------------------------------+\n",
    "| n                                  |\n",
    "+------------------------------------+\n",
    "| (:Person {name: \"Robert\"})            |\n",
    "| (:Person {name: \"Janet\", age: 18}) |\n",
    "+------------------------------------+\n",
    "\n",
    "create relationship\n",
    "neo4j@neo4j> MATCH (janet:Person {name:'Janet'}), (robert:Person {name:'Robert'})\n",
    "             CREATE (janet)-[:KNOWS]->(robert);\n",
    "Created 1 relationships\n",
    "\n",
    "query relationship\n",
    "neo4j@neo4j> MATCH (janet:Person {name:'Janet'})-[:KNOWS]->(robert:Person {name:'Robert'})\n",
    "             RETURN exists((janet)-[:KNOWS]->(robert)) AS relationship_exists ;\n",
    "+---------------------+\n",
    "| relationship_exists |\n",
    "+---------------------+\n",
    "| TRUE                |\n",
    "+---------------------+\n",
    "\n",
    "delete node\n",
    "neo4j@neo4j> match (n) detach delete n ;\n",
    "Deleted 2 nodes, Deleted 1 relationships\n",
    "\n",
    "neo4j@neo4j> match (n) return n ;\n",
    "+---+\n",
    "| n |\n",
    "+---+\n",
    "\n",
    "```\n",
    "\n"
   ]
  },
  {
   "cell_type": "markdown",
   "metadata": {},
   "source": [
    "## Install neo4j python driver"
   ]
  },
  {
   "cell_type": "code",
   "execution_count": null,
   "metadata": {},
   "outputs": [],
   "source": [
    "!pip install neo4j"
   ]
  },
  {
   "cell_type": "markdown",
   "metadata": {},
   "source": [
    "## Connect to db\n",
    "Put `NEO4J_PASSWORD=xxx` in .env under current folder, "
   ]
  },
  {
   "cell_type": "code",
   "execution_count": 15,
   "metadata": {},
   "outputs": [],
   "source": [
    "from dotenv import load_dotenv\n",
    "import os\n",
    "\n",
    "load_dotenv()\n",
    "\n",
    "neo4j_user = \"neo4j\"\n",
    "neo4j_password = os.environ[\"NEO4J_PASSWORD\"]"
   ]
  },
  {
   "cell_type": "code",
   "execution_count": 16,
   "metadata": {},
   "outputs": [],
   "source": [
    "from neo4j import GraphDatabase\n",
    "\n",
    "URI = \"neo4j://localhost\"\n",
    "AUTH = (neo4j_user, neo4j_password)\n",
    "\n",
    "driver = GraphDatabase.driver(URI, auth=AUTH)\n",
    "driver.verify_connectivity()"
   ]
  },
  {
   "cell_type": "markdown",
   "metadata": {},
   "source": [
    "## Write to db"
   ]
  },
  {
   "cell_type": "code",
   "execution_count": 19,
   "metadata": {},
   "outputs": [
    {
     "name": "stdout",
     "output_type": "stream",
     "text": [
      "Created 1 nodes in 4 ms.\n"
     ]
    }
   ],
   "source": [
    "summary = driver.execute_query(\n",
    "    \"CREATE (:Person {name: $name})\",\n",
    "    name=\"Janet\",\n",
    "    database_=\"neo4j\",\n",
    ").summary\n",
    "print(\"Created {nodes_created} nodes in {time} ms.\".format(\n",
    "    nodes_created=summary.counters.nodes_created,\n",
    "    time=summary.result_available_after\n",
    "))"
   ]
  },
  {
   "cell_type": "markdown",
   "metadata": {},
   "source": [
    "## Read from db"
   ]
  },
  {
   "cell_type": "code",
   "execution_count": 20,
   "metadata": {},
   "outputs": [
    {
     "name": "stdout",
     "output_type": "stream",
     "text": [
      "{'name': 'Robert'}\n",
      "{'name': 'Janet'}\n",
      "The query `MATCH (p:Person) RETURN p.name AS name` returned 2 records in 1 ms.\n"
     ]
    }
   ],
   "source": [
    "records, summary, keys = driver.execute_query(\n",
    "    \"MATCH (p:Person) RETURN p.name AS name\",\n",
    "    database_=\"neo4j\",\n",
    ")\n",
    "\n",
    "for record in records:\n",
    "    print(record.data())  \n",
    "\n",
    "print(\"The query `{query}` returned {records_count} records in {time} ms.\".format(\n",
    "    query=summary.query, records_count=len(records),\n",
    "    time=summary.result_available_after\n",
    "))"
   ]
  },
  {
   "cell_type": "markdown",
   "metadata": {},
   "source": [
    "## Update db"
   ]
  },
  {
   "cell_type": "code",
   "execution_count": 21,
   "metadata": {},
   "outputs": [
    {
     "name": "stdout",
     "output_type": "stream",
     "text": [
      "Query counters: {'_contains_updates': True, 'properties_set': 1}.\n"
     ]
    }
   ],
   "source": [
    "records, summary, keys = driver.execute_query(\"\"\"\n",
    "    MATCH (p:Person {name: $name})\n",
    "    SET p.age = $age\n",
    "    \"\"\", name=\"Janet\", age=18,\n",
    "    database_=\"neo4j\",\n",
    ")\n",
    "print(f\"Query counters: {summary.counters}.\")"
   ]
  },
  {
   "cell_type": "markdown",
   "metadata": {},
   "source": [
    "## Create relationship"
   ]
  },
  {
   "cell_type": "code",
   "execution_count": 22,
   "metadata": {},
   "outputs": [
    {
     "name": "stdout",
     "output_type": "stream",
     "text": [
      "Query counters: {'_contains_updates': True, 'relationships_created': 1}.\n"
     ]
    }
   ],
   "source": [
    "records, summary, keys = driver.execute_query(\"\"\"\n",
    "    MATCH (janet:Person {name: $name})\n",
    "    MATCH (robert:Person {name: $friend})\n",
    "    CREATE (janet)-[:KNOWS]->(robert)\n",
    "    \"\"\", name=\"Janet\", friend=\"Robert\",\n",
    "    database_=\"neo4j\",\n",
    ")\n",
    "print(f\"Query counters: {summary.counters}.\")"
   ]
  },
  {
   "cell_type": "markdown",
   "metadata": {},
   "source": [
    "## Query db"
   ]
  },
  {
   "cell_type": "code",
   "execution_count": 23,
   "metadata": {},
   "outputs": [
    {
     "name": "stdout",
     "output_type": "stream",
     "text": [
      "<Record name='Janet'>\n",
      "The query `MATCH (p:Person {age: $age}) RETURN p.name AS name` returned 1 records in 2 ms.\n"
     ]
    }
   ],
   "source": [
    "records, summary, keys = driver.execute_query(\n",
    "    \"MATCH (p:Person {age: $age}) RETURN p.name AS name\",\n",
    "    age=18,\n",
    "    database_=\"neo4j\",\n",
    ")\n",
    "\n",
    "for person in records:\n",
    "    print(person)\n",
    "\n",
    "print(\"The query `{query}` returned {records_count} records in {time} ms.\".format(\n",
    "    query=summary.query, records_count=len(records),\n",
    "    time=summary.result_available_after,\n",
    "))"
   ]
  },
  {
   "cell_type": "markdown",
   "metadata": {},
   "source": [
    "## Delete all nodes"
   ]
  },
  {
   "cell_type": "code",
   "execution_count": 24,
   "metadata": {},
   "outputs": [
    {
     "name": "stdout",
     "output_type": "stream",
     "text": [
      "Deleted 2 nodes in 4 ms.\n"
     ]
    }
   ],
   "source": [
    "summary = driver.execute_query(\n",
    "    \"MATCH (n) DETACH DELETE n\",\n",
    "    database_=\"neo4j\",\n",
    ").summary\n",
    "\n",
    "print(\"Deleted {nodes_deleted} nodes in {time} ms.\".format(\n",
    "    nodes_deleted=summary.counters.nodes_deleted,\n",
    "    time=summary.result_available_after\n",
    "))"
   ]
  },
  {
   "cell_type": "markdown",
   "metadata": {},
   "source": [
    "## Close db connection and session"
   ]
  },
  {
   "cell_type": "code",
   "execution_count": 25,
   "metadata": {},
   "outputs": [],
   "source": [
    "from neo4j import GraphDatabase\n",
    "\n",
    "driver = GraphDatabase.driver(URI, auth=AUTH)\n",
    "session = driver.session(database=\"neo4j\")\n",
    "\n",
    "session.close()\n",
    "driver.close()"
   ]
  },
  {
   "cell_type": "markdown",
   "metadata": {},
   "source": [
    "## Further reading\n",
    "- https://www.techrepublic.com/article/how-to-install-neo4j-ubuntu-server/ \n",
    "- https://neo4j.com/docs/python-manual/current/ "
   ]
  },
  {
   "cell_type": "code",
   "execution_count": null,
   "metadata": {},
   "outputs": [],
   "source": []
  }
 ],
 "metadata": {
  "kernelspec": {
   "display_name": "Python 3 (ipykernel)",
   "language": "python",
   "name": "python3"
  },
  "language_info": {
   "codemirror_mode": {
    "name": "ipython",
    "version": 3
   },
   "file_extension": ".py",
   "mimetype": "text/x-python",
   "name": "python",
   "nbconvert_exporter": "python",
   "pygments_lexer": "ipython3",
   "version": "3.10.12"
  }
 },
 "nbformat": 4,
 "nbformat_minor": 4
}
