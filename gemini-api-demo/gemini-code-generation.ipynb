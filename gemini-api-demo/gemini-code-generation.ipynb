{
 "cells": [
  {
   "cell_type": "markdown",
   "metadata": {
    "id": "sP8PQnz1QrcF"
   },
   "source": [
    "# Gemini code generation demo\n",
    "\n",
    "This is demo how to use prompting to perform basic code generation using the Gemini API.\n",
    "\n",
    "Two use cases: \n",
    "- error handling\n",
    "- code generation"
   ]
  },
  {
   "cell_type": "markdown",
   "metadata": {
    "id": "ysy--KfNRrCq"
   },
   "source": [
    "## Installation"
   ]
  },
  {
   "cell_type": "code",
   "execution_count": null,
   "metadata": {
    "id": "Ne-3gnXqR0hI"
   },
   "outputs": [],
   "source": [
    "!pip install -U -q google-generativeai"
   ]
  },
  {
   "cell_type": "code",
   "execution_count": 1,
   "metadata": {
    "id": "EconMHePQHGw"
   },
   "outputs": [],
   "source": [
    "import google.generativeai as genai\n",
    "\n",
    "from IPython.display import Markdown"
   ]
  },
  {
   "cell_type": "markdown",
   "metadata": {
    "id": "eomJzCa6lb90"
   },
   "source": [
    "## Setup API key"
   ]
  },
  {
   "cell_type": "code",
   "execution_count": 2,
   "metadata": {
    "id": "v-JZzORUpVR2"
   },
   "outputs": [],
   "source": [
    "import os\n",
    "\n",
    "from dotenv import load_dotenv\n",
    "\n",
    "load_dotenv()\n",
    "\n",
    "genai.configure(api_key=os.environ[\"GOOGLE_API_KEY\"])"
   ]
  },
  {
   "cell_type": "markdown",
   "metadata": {
    "id": "bR-OOcC6pIm5"
   },
   "source": [
    "## Error handling"
   ]
  },
  {
   "cell_type": "code",
   "execution_count": 3,
   "metadata": {
    "id": "kVF8ZQ38Vs1P"
   },
   "outputs": [],
   "source": [
    "error_handling_system_prompt =f\"\"\"\n",
    "Your task is to explain exactly why this error occurred and how to fix it.\n",
    "\"\"\"\n",
    "error_handling_model = genai.GenerativeModel(model_name='gemini-1.5-flash-latest', generation_config={\"temperature\": 0},\n",
    "                                             system_instruction=error_handling_system_prompt)"
   ]
  },
  {
   "cell_type": "code",
   "execution_count": 4,
   "metadata": {
    "id": "CHTdAVE0pIFf"
   },
   "outputs": [
    {
     "data": {
      "text/markdown": [
       "The error message \"IndexError: list index out of range\" means you're trying to access an element in a list using an index that doesn't exist.\n",
       "\n",
       "**Explanation:**\n",
       "\n",
       "* **List Indexing:** In Python, lists are zero-indexed. This means the first element has an index of 0, the second element has an index of 1, and so on.\n",
       "* **Your Code:** Your code `print(my_list[3])` is trying to access the element at index 3 in the list `my_list`.\n",
       "* **The Problem:** The list `my_list` only has three elements (1, 2, and 3), with indices 0, 1, and 2. There is no element at index 3.\n",
       "\n",
       "**How to Fix It:**\n",
       "\n",
       "1. **Check the Index:** Make sure the index you're using is within the valid range of the list. In this case, the valid indices are 0, 1, and 2.\n",
       "2. **Adjust the Index:** If you want to access the last element of the list, use `my_list[-1]`. This will access the element at index 2 (the last element).\n",
       "3. **Use `len()`:** To find the length of the list, use `len(my_list)`. This will tell you the number of elements in the list, which can help you avoid out-of-range errors.\n",
       "\n",
       "**Corrected Code:**\n",
       "\n",
       "```python\n",
       "my_list = [1, 2, 3]\n",
       "print(my_list[2])  # Access the last element (index 2)\n",
       "```\n",
       "\n",
       "**Or:**\n",
       "\n",
       "```python\n",
       "my_list = [1, 2, 3]\n",
       "print(my_list[-1])  # Access the last element using negative indexing\n",
       "```\n",
       "\n",
       "**Remember:** Always double-check your indices to ensure they are within the bounds of your list to avoid this error. \n"
      ],
      "text/plain": [
       "<IPython.core.display.Markdown object>"
      ]
     },
     "execution_count": 4,
     "metadata": {},
     "output_type": "execute_result"
    }
   ],
   "source": [
    "error_message = \"\"\"\n",
    "   1 my_list = [1,2,3]\n",
    "----> 2 print(my_list[3])\n",
    "\n",
    "IndexError: list index out of range\n",
    "\"\"\"\n",
    "\n",
    "error_prompt = f\"\"\"\n",
    "You've encountered the following error message:\n",
    "Error Message: {error_message}\"\"\"\n",
    "\n",
    "Markdown(error_handling_model.generate_content(error_prompt).text)"
   ]
  },
  {
   "cell_type": "markdown",
   "metadata": {
    "id": "kTDi8WyDqQRf"
   },
   "source": [
    "### Code generation"
   ]
  },
  {
   "cell_type": "code",
   "execution_count": 5,
   "metadata": {
    "id": "1T1QSzjVVvE_"
   },
   "outputs": [],
   "source": [
    "code_generation_system_prompt = f\"\"\"\n",
    "You are a coding assistant. Your task is to generate a code snippet that accomplishes a specific goal.\n",
    "The code snippet must be concise, efficient, and well-commented for clarity.\n",
    "Consider any constraints or requirements provided for the task.\n",
    "\n",
    "If the task does not specify a programming language, default to Python.\n",
    "\"\"\"\n",
    "code_generation_model = genai.GenerativeModel(model_name='gemini-1.5-flash-latest', generation_config={\"temperature\": 0},\n",
    "                                             system_instruction=code_generation_system_prompt)"
   ]
  },
  {
   "cell_type": "code",
   "execution_count": 7,
   "metadata": {
    "id": "8KVpzExDqRj2"
   },
   "outputs": [
    {
     "data": {
      "text/markdown": [
       "```python\n",
       "def dos2unix(input_file, output_file):\n",
       "  \"\"\"Converts a text file from DOS to Linux format.\n",
       "\n",
       "  Args:\n",
       "    input_file: The path to the input file in DOS format.\n",
       "    output_file: The path to the output file in Linux format.\n",
       "  \"\"\"\n",
       "\n",
       "  with open(input_file, 'r', encoding='latin-1') as f_in, \\\n",
       "       open(output_file, 'w', encoding='utf-8') as f_out:\n",
       "    for line in f_in:\n",
       "      # Replace DOS line endings (CRLF) with Linux line endings (LF)\n",
       "      line = line.replace('\\r\\n', '\\n')\n",
       "      f_out.write(line)\n",
       "\n",
       "# Example usage:\n",
       "dos2unix('input.txt', 'output.txt')\n",
       "```\n",
       "\n",
       "**Explanation:**\n",
       "\n",
       "1. **Function Definition:**\n",
       "   - The code defines a function `dos2unix` that takes two arguments: `input_file` (path to the DOS file) and `output_file` (path to the output Linux file).\n",
       "\n",
       "2. **File Handling:**\n",
       "   - It opens the input file in read mode (`'r'`) with `latin-1` encoding, which is commonly used for DOS files.\n",
       "   - It opens the output file in write mode (`'w'`) with `utf-8` encoding, which is the standard encoding for Linux.\n",
       "\n",
       "3. **Line-by-Line Conversion:**\n",
       "   - It iterates through each line in the input file.\n",
       "   - For each line, it replaces the DOS line ending (`\\r\\n`) with the Linux line ending (`\\n`) using the `replace()` method.\n",
       "   - The modified line is then written to the output file.\n",
       "\n",
       "4. **Example Usage:**\n",
       "   - The code demonstrates how to call the `dos2unix` function with specific input and output file names.\n",
       "\n",
       "**Note:**\n",
       "\n",
       "- This code assumes that the input file is encoded in `latin-1`. If your input file uses a different encoding, you need to adjust the encoding parameter in the `open()` function accordingly.\n",
       "- This code only converts the line endings. It does not handle any other potential differences between DOS and Linux text formats.\n"
      ],
      "text/plain": [
       "<IPython.core.display.Markdown object>"
      ]
     },
     "execution_count": 7,
     "metadata": {},
     "output_type": "execute_result"
    }
   ],
   "source": [
    "code_generation_prompt = 'write code to convert text format from DOS to Linux'\n",
    "\n",
    "Markdown(code_generation_model.generate_content(code_generation_prompt).text)"
   ]
  },
  {
   "cell_type": "markdown",
   "metadata": {
    "id": "AiGF8I290YzL"
   },
   "source": [
    "## Conclusion\n",
    "\n",
    "This demo highlights the capabilities of the Gemini API for two primary use cases: **error handling** and **code generation**. By using tailored prompts, the API can effectively generate explanations for errors and produce well-structured code snippets.\n",
    "\n",
    "### Error Handling\n",
    "- The demo shows how the API can provide detailed explanations for common programming errors, such as the \"IndexError: list index out of range.\"\n",
    "- This functionality is invaluable for debugging and educational purposes, offering step-by-step guidance on understanding and resolving issues.\n",
    "\n",
    "### Code Generation\n",
    "- The demo illustrates how to prompt the API to generate a Python function that converts text files from DOS to Linux format.\n",
    "- The generated code includes comprehensive comments and a clear structure, ensuring ease of understanding and adaptability for various use cases.\n",
    "\n",
    "### Overall Benefits\n",
    "- The Gemini API proves to be a powerful tool for both novice and experienced programmers, enhancing their ability to debug and generate code efficiently.\n",
    "- By leveraging AI-driven prompts, developers can save time and focus on more complex aspects of their projects.\n",
    "\n",
    "This demo showcases how the Gemini API can be a valuable asset in the toolkit of any programmer, streamlining the coding process and improving overall productivity.\n"
   ]
  },
  {
   "cell_type": "code",
   "execution_count": null,
   "metadata": {},
   "outputs": [],
   "source": []
  }
 ],
 "metadata": {
  "colab": {
   "name": "Basic_Code_Generation.ipynb",
   "toc_visible": true
  },
  "kernelspec": {
   "display_name": "Python 3 (ipykernel)",
   "language": "python",
   "name": "python3"
  },
  "language_info": {
   "codemirror_mode": {
    "name": "ipython",
    "version": 3
   },
   "file_extension": ".py",
   "mimetype": "text/x-python",
   "name": "python",
   "nbconvert_exporter": "python",
   "pygments_lexer": "ipython3",
   "version": "3.10.12"
  }
 },
 "nbformat": 4,
 "nbformat_minor": 4
}
