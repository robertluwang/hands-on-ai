{
 "cells": [
  {
   "cell_type": "markdown",
   "metadata": {
    "id": "sP8PQnz1QrcF"
   },
   "source": [
    "# Gemini code generation demo\n",
    "\n",
    "This is demo how to use prompting to perform basic code generation using the Gemini API.\n",
    "\n",
    "Two use cases: \n",
    "- error handling\n",
    "- code generation"
   ]
  },
  {
   "cell_type": "markdown",
   "metadata": {
    "id": "ysy--KfNRrCq"
   },
   "source": [
    "## Installation"
   ]
  },
  {
   "cell_type": "code",
   "execution_count": null,
   "metadata": {
    "id": "Ne-3gnXqR0hI"
   },
   "outputs": [],
   "source": [
    "!pip install -U -q google-generativeai"
   ]
  },
  {
   "cell_type": "code",
   "execution_count": 1,
   "metadata": {
    "id": "EconMHePQHGw"
   },
   "outputs": [],
   "source": [
    "import google.generativeai as genai\n",
    "\n",
    "from IPython.display import Markdown"
   ]
  },
  {
   "cell_type": "markdown",
   "metadata": {
    "id": "eomJzCa6lb90"
   },
   "source": [
    "## Setup API key"
   ]
  },
  {
   "cell_type": "code",
   "execution_count": 2,
   "metadata": {
    "id": "v-JZzORUpVR2"
   },
   "outputs": [],
   "source": [
    "import os\n",
    "\n",
    "from dotenv import load_dotenv\n",
    "\n",
    "load_dotenv()\n",
    "\n",
    "genai.configure(api_key=os.environ[\"GOOGLE_API_KEY\"])"
   ]
  },
  {
   "cell_type": "markdown",
   "metadata": {
    "id": "bR-OOcC6pIm5"
   },
   "source": [
    "## Error handling"
   ]
  },
  {
   "cell_type": "code",
   "execution_count": 3,
   "metadata": {
    "id": "kVF8ZQ38Vs1P"
   },
   "outputs": [],
   "source": [
    "error_handling_system_prompt =f\"\"\"\n",
    "Your task is to explain exactly why this error occurred and how to fix it.\n",
    "\"\"\"\n",
    "error_handling_model = genai.GenerativeModel(model_name='gemini-1.5-flash-latest', generation_config={\"temperature\": 0},system_instruction=error_handling_system_prompt)"
   ]
  },
  {
   "cell_type": "code",
   "execution_count": 4,
   "metadata": {
    "id": "CHTdAVE0pIFf"
   },
   "outputs": [
    {
     "data": {
      "text/markdown": [
       "The error message \"IndexError: list index out of range\" means you're trying to access an element in a list using an index that doesn't exist.\n",
       "\n",
       "**Explanation:**\n",
       "\n",
       "* **List Indexing:** In Python, lists are zero-indexed. This means the first element has an index of 0, the second element has an index of 1, and so on.\n",
       "* **Your Code:** Your code `print(my_list[3])` is trying to access the element at index 3 in the list `my_list`.\n",
       "* **The Problem:** The list `my_list` only has three elements (1, 2, and 3), with indices 0, 1, and 2. There is no element at index 3.\n",
       "\n",
       "**How to Fix It:**\n",
       "\n",
       "1. **Check the Index:** Make sure the index you're using is within the valid range of the list. In this case, the valid indices are 0, 1, and 2.\n",
       "2. **Adjust the Index:** If you want to access the last element of the list, use `my_list[-1]`. This will access the element at index 2 (the last element).\n",
       "3. **Use `len()`:** To find the length of the list, use `len(my_list)`. This will tell you the number of elements in the list, which can help you avoid out-of-range errors.\n",
       "\n",
       "**Corrected Code:**\n",
       "\n",
       "```python\n",
       "my_list = [1, 2, 3]\n",
       "print(my_list[2])  # Access the last element (index 2)\n",
       "```\n",
       "\n",
       "**Or:**\n",
       "\n",
       "```python\n",
       "my_list = [1, 2, 3]\n",
       "print(my_list[-1])  # Access the last element using negative indexing\n",
       "```\n",
       "\n",
       "**Remember:** Always double-check your indices to ensure they are within the bounds of your list to avoid this error. \n"
      ],
      "text/plain": [
       "<IPython.core.display.Markdown object>"
      ]
     },
     "execution_count": 4,
     "metadata": {},
     "output_type": "execute_result"
    }
   ],
   "source": [
    "error_message = \"\"\"\n",
    "   1 my_list = [1,2,3]\n",
    "----> 2 print(my_list[3])\n",
    "\n",
    "IndexError: list index out of range\n",
    "\"\"\"\n",
    "\n",
    "error_prompt = f\"\"\"\n",
    "You've encountered the following error message:\n",
    "Error Message: {error_message}\"\"\"\n",
    "\n",
    "Markdown(error_handling_model.generate_content(error_prompt).text)"
   ]
  },
  {
   "cell_type": "markdown",
   "metadata": {},
   "source": [
    "Another error message "
   ]
  },
  {
   "cell_type": "code",
   "execution_count": 8,
   "metadata": {},
   "outputs": [
    {
     "data": {
      "text/markdown": [
       "This error message indicates that your request to the Gemini Pro API is malformed. The API server is rejecting your request because it contains an invalid argument. \n",
       "\n",
       "Here's a breakdown of the error and how to fix it:\n",
       "\n",
       "**Understanding the Error:**\n",
       "\n",
       "* **`code: 400`:** This is a standard HTTP status code indicating a \"Bad Request\". It means the server understood your request but couldn't process it due to an error in the request itself.\n",
       "* **`message: 'Request contains an invalid argument.'`:** This specific message from Gemini Pro API tells you that the problem lies within the data you're sending in your request. \n",
       "\n",
       "**Common Causes of Invalid Arguments:**\n",
       "\n",
       "* **Incorrect Parameters:** You might be using the wrong parameter names, data types, or values in your request. Double-check the Gemini Pro API documentation for the correct parameters and their expected formats.\n",
       "* **Missing Parameters:**  The API might require certain parameters to be present in your request. Ensure you're including all necessary parameters.\n",
       "* **Invalid Values:**  The values you're providing for parameters might be outside the acceptable range or format. For example, a price parameter might need to be a decimal number, but you're sending a string.\n",
       "* **Incorrect Request Method:** You might be using the wrong HTTP method (e.g., GET instead of POST) for the API endpoint.\n",
       "* **Authentication Issues:** If the API requires authentication, you might have provided incorrect credentials or your authentication token might have expired.\n",
       "\n",
       "**How to Fix the Error:**\n",
       "\n",
       "1. **Review the API Documentation:** Carefully examine the Gemini Pro API documentation for the specific endpoint you're using. Pay close attention to:\n",
       "    * **Required parameters:** Ensure you're including all mandatory parameters.\n",
       "    * **Parameter types:** Make sure you're using the correct data types (e.g., string, integer, decimal).\n",
       "    * **Parameter values:** Verify that the values you're providing are within the acceptable range and format.\n",
       "    * **Request method:** Confirm you're using the correct HTTP method (GET, POST, PUT, DELETE).\n",
       "2. **Check Your Code:**  Inspect your code thoroughly to identify any potential errors:\n",
       "    * **Parameter names:** Ensure you're using the correct parameter names as specified in the documentation.\n",
       "    * **Data types:** Double-check that you're converting data to the correct types before sending it to the API.\n",
       "    * **Value formatting:** Make sure your values are formatted correctly (e.g., using the right decimal separator).\n",
       "3. **Test with a Simple Request:**  Start with a basic request to the API endpoint to isolate the problem. If the simple request works, gradually add complexity to your request until you identify the source of the error.\n",
       "4. **Verify Authentication:** If the API requires authentication, ensure you're using the correct credentials and that your authentication token is valid.\n",
       "5. **Use a Debugging Tool:**  Use a debugging tool like Postman or curl to send requests to the API and inspect the response headers and body. This can help you identify the specific error in your request.\n",
       "\n",
       "**Example:**\n",
       "\n",
       "Let's say you're trying to place an order using the Gemini Pro API, but you're getting the \"invalid argument\" error. You might have forgotten to include the `symbol` parameter in your request, or you might be providing an invalid `amount` value.\n",
       "\n",
       "**Remember:**  The specific solution will depend on the details of your request and the Gemini Pro API endpoint you're using. \n"
      ],
      "text/plain": [
       "<IPython.core.display.Markdown object>"
      ]
     },
     "execution_count": 8,
     "metadata": {},
     "output_type": "execute_result"
    }
   ],
   "source": [
    "error_message = \"\"\"\n",
    "gemini pro api error:\n",
    "'code': 400, 'message': 'Request contains an invalid argument.'\n",
    "\"\"\"\n",
    "\n",
    "error_prompt = f\"\"\"\n",
    "You've encountered the following error message:\n",
    "Error Message: {error_message}\"\"\"\n",
    "\n",
    "Markdown(error_handling_model.generate_content(error_prompt).text)"
   ]
  },
  {
   "cell_type": "markdown",
   "metadata": {},
   "source": [
    "Let's wrap the error troubleshoot reuse tool."
   ]
  },
  {
   "cell_type": "markdown",
   "metadata": {},
   "source": [
    "## Troubleshoot tool"
   ]
  },
  {
   "cell_type": "code",
   "execution_count": 17,
   "metadata": {},
   "outputs": [
    {
     "name": "stdout",
     "output_type": "stream",
     "text": [
      "The error message \"IndexError: list index out of range\" means you're trying to access an element in the list that doesn't exist.\n",
      "\n",
      "**Explanation:**\n",
      "\n",
      "* **List Indexing:** In Python, lists are zero-indexed. This means the first element is at index 0, the second at index 1, and so on.\n",
      "* **Your Code:** You're trying to access `my_list[3]`. However, your list `my_list` only has three elements (1, 2, and 3), which are at indices 0, 1, and 2 respectively. There is no element at index 3.\n",
      "\n",
      "**How to Fix It:**\n",
      "\n",
      "1. **Adjust the Index:**  Since your list has three elements, the valid indices are 0, 1, and 2. To access the last element, use `my_list[2]`.\n",
      "\n",
      "   ```python\n",
      "   my_list = [1, 2, 3]\n",
      "   print(my_list[2])  # This will print 3\n",
      "   ```\n",
      "\n",
      "2. **Use Negative Indexing:** Python allows negative indexing to access elements from the end of the list.  `my_list[-1]` refers to the last element, `my_list[-2]` to the second-to-last, and so on.\n",
      "\n",
      "   ```python\n",
      "   my_list = [1, 2, 3]\n",
      "   print(my_list[-1])  # This will print 3\n",
      "   ```\n",
      "\n",
      "3. **Check List Length:** Before accessing an element, you can check the length of the list using `len(my_list)`. This helps avoid errors if the list is shorter than expected.\n",
      "\n",
      "   ```python\n",
      "   my_list = [1, 2, 3]\n",
      "   if len(my_list) > 3:\n",
      "       print(my_list[3])\n",
      "   else:\n",
      "       print(\"List is too short\")\n",
      "   ```\n",
      "\n",
      "Remember to always be mindful of the size of your lists and use valid indices to avoid this error. \n",
      "\n",
      "The error message \"IndexError: list index out of range\" means you're trying to access an element in the list that doesn't exist.\n",
      "\n",
      "**Explanation:**\n",
      "\n",
      "* **List Indexing:** In Python, lists are zero-indexed. This means the first element is at index 0, the second at index 1, and so on.\n",
      "* **Your Code:** You're trying to access `my_list[3]`. However, your list `my_list` only has three elements (1, 2, and 3), which are at indices 0, 1, and 2 respectively. There is no element at index 3.\n",
      "\n",
      "**How to Fix It:**\n",
      "\n",
      "1. **Adjust the Index:**  Since your list has three elements, the valid indices are 0, 1, and 2. To access the last element, use `my_list[2]`.\n",
      "\n",
      "   ```python\n",
      "   my_list = [1, 2, 3]\n",
      "   print(my_list[2])  # This will print 3\n",
      "   ```\n",
      "\n",
      "2. **Use Negative Indexing:** Python allows negative indexing to access elements from the end of the list.  `my_list[-1]` refers to the last element, `my_list[-2]` to the second-to-last, and so on.\n",
      "\n",
      "   ```python\n",
      "   my_list = [1, 2, 3]\n",
      "   print(my_list[-1])  # This will print 3\n",
      "   ```\n",
      "\n",
      "3. **Check List Length:** Before accessing an element, you can check the length of the list using `len(my_list)`. This helps avoid errors if the list is shorter than expected.\n",
      "\n",
      "   ```python\n",
      "   my_list = [1, 2, 3]\n",
      "   if len(my_list) > 3:\n",
      "       print(my_list[3])\n",
      "   else:\n",
      "       print(\"List is too short\")\n",
      "   ```\n",
      "\n",
      "Remember to always be mindful of the size of your lists and use valid indices to avoid this error. \n",
      "\n"
     ]
    }
   ],
   "source": [
    "import google.generativeai as genai\n",
    "import os\n",
    "from dotenv import load_dotenv\n",
    "\n",
    "def setup_api_key():\n",
    "    \"\"\"Set up the API key for the model.\"\"\"\n",
    "    load_dotenv()\n",
    "    genai.configure(api_key=os.environ[\"GOOGLE_API_KEY\"])\n",
    "\n",
    "def create_error_handling_model():\n",
    "    \"\"\"Create and return an error handling model.\"\"\"\n",
    "    error_handling_system_prompt = \"\"\"\n",
    "    Your task is to explain exactly why this error occurred and how to fix it.\n",
    "    \"\"\"\n",
    "    return genai.GenerativeModel(\n",
    "        model_name='gemini-1.5-flash-latest',\n",
    "        generation_config={\"temperature\": 0},\n",
    "        system_instruction=error_handling_system_prompt\n",
    "    )\n",
    "\n",
    "def troubleshoot_error(error_message: str) -> str:\n",
    "    \"\"\"\n",
    "    Uses the Generative AI model to generate an explanation for the given error message.\n",
    "    \n",
    "    Args:\n",
    "        error_message (str): The error message to troubleshoot.\n",
    "    \n",
    "    Returns:\n",
    "        str: The content explaining the error and how to fix it, in plain text format.\n",
    "    \"\"\"\n",
    "    model = create_error_handling_model()\n",
    "    error_prompt = f\"\"\"\n",
    "    You've encountered the following error message:\n",
    "    Error Message: {error_message}\n",
    "    \"\"\"\n",
    "    \n",
    "    response = model.generate_content(error_prompt).text\n",
    "    return response\n",
    "\n",
    "def main():\n",
    "    setup_api_key()\n",
    "    error_message = \"\"\"\n",
    "    1 my_list = [1,2,3]\n",
    "    ----> 2 print(my_list[3])\n",
    "\n",
    "    IndexError: list index out of range\n",
    "    \"\"\"\n",
    "    \n",
    "    # Call the troubleshooting function and print the result\n",
    "    result = troubleshoot_error(error_message)\n",
    "    print(result)\n",
    "\n",
    "if __name__ == \"__main__\":\n",
    "    main()\n",
    "\n",
    "# run in notebook\n",
    "main()\n"
   ]
  },
  {
   "cell_type": "markdown",
   "metadata": {
    "id": "kTDi8WyDqQRf"
   },
   "source": [
    "### Code generation"
   ]
  },
  {
   "cell_type": "code",
   "execution_count": 5,
   "metadata": {
    "id": "1T1QSzjVVvE_"
   },
   "outputs": [],
   "source": [
    "code_generation_system_prompt = f\"\"\"\n",
    "You are a coding assistant. Your task is to generate a code snippet that accomplishes a specific goal.\n",
    "The code snippet must be concise, efficient, and well-commented for clarity.\n",
    "Consider any constraints or requirements provided for the task.\n",
    "\n",
    "If the task does not specify a programming language, default to Python.\n",
    "\"\"\"\n",
    "code_generation_model = genai.GenerativeModel(model_name='gemini-1.5-flash-latest', generation_config={\"temperature\": 0},system_instruction=code_generation_system_prompt)"
   ]
  },
  {
   "cell_type": "code",
   "execution_count": 7,
   "metadata": {
    "id": "8KVpzExDqRj2"
   },
   "outputs": [
    {
     "data": {
      "text/markdown": [
       "```python\n",
       "def dos2unix(input_file, output_file):\n",
       "  \"\"\"Converts a text file from DOS to Linux format.\n",
       "\n",
       "  Args:\n",
       "    input_file: The path to the input file in DOS format.\n",
       "    output_file: The path to the output file in Linux format.\n",
       "  \"\"\"\n",
       "\n",
       "  with open(input_file, 'r', encoding='latin-1') as f_in, \\\n",
       "       open(output_file, 'w', encoding='utf-8') as f_out:\n",
       "    for line in f_in:\n",
       "      # Replace DOS line endings (CRLF) with Linux line endings (LF)\n",
       "      line = line.replace('\\r\\n', '\\n')\n",
       "      f_out.write(line)\n",
       "\n",
       "# Example usage:\n",
       "dos2unix('input.txt', 'output.txt')\n",
       "```\n",
       "\n",
       "**Explanation:**\n",
       "\n",
       "1. **Function Definition:**\n",
       "   - The code defines a function `dos2unix` that takes two arguments: `input_file` (path to the DOS file) and `output_file` (path to the output Linux file).\n",
       "\n",
       "2. **File Handling:**\n",
       "   - It opens the input file in read mode (`'r'`) with `latin-1` encoding, which is commonly used for DOS files.\n",
       "   - It opens the output file in write mode (`'w'`) with `utf-8` encoding, which is the standard encoding for Linux.\n",
       "\n",
       "3. **Line-by-Line Conversion:**\n",
       "   - It iterates through each line in the input file.\n",
       "   - For each line, it replaces the DOS line ending (`\\r\\n`) with the Linux line ending (`\\n`) using the `replace()` method.\n",
       "   - The modified line is then written to the output file.\n",
       "\n",
       "4. **Example Usage:**\n",
       "   - The code demonstrates how to call the `dos2unix` function with specific input and output file names.\n",
       "\n",
       "**Note:**\n",
       "\n",
       "- This code assumes that the input file is encoded in `latin-1`. If your input file uses a different encoding, you need to adjust the encoding parameter in the `open()` function accordingly.\n",
       "- This code only converts the line endings. It does not handle any other potential differences between DOS and Linux text formats.\n"
      ],
      "text/plain": [
       "<IPython.core.display.Markdown object>"
      ]
     },
     "execution_count": 7,
     "metadata": {},
     "output_type": "execute_result"
    }
   ],
   "source": [
    "code_generation_prompt = 'write code to convert text format from DOS to Linux'\n",
    "\n",
    "Markdown(code_generation_model.generate_content(code_generation_prompt).text)"
   ]
  },
  {
   "cell_type": "markdown",
   "metadata": {},
   "source": [
    "Let's wrap code generation demo to a reuse tool. "
   ]
  },
  {
   "cell_type": "markdown",
   "metadata": {},
   "source": [
    "## Code generation tool"
   ]
  },
  {
   "cell_type": "code",
   "execution_count": 15,
   "metadata": {},
   "outputs": [
    {
     "name": "stdout",
     "output_type": "stream",
     "text": [
      "```python\n",
      "import os\n",
      "\n",
      "def dos2unix(input_file, output_file=None):\n",
      "  \"\"\"Converts a text file from DOS to Linux format.\n",
      "\n",
      "  Args:\n",
      "    input_file: Path to the input file.\n",
      "    output_file: Path to the output file. If None, the input file will be overwritten.\n",
      "\n",
      "  Returns:\n",
      "    None\n",
      "  \"\"\"\n",
      "\n",
      "  # Read the file contents\n",
      "  with open(input_file, 'r', encoding='latin-1') as f:\n",
      "    content = f.read()\n",
      "\n",
      "  # Replace DOS line endings (CRLF) with Linux line endings (LF)\n",
      "  content = content.replace('\\r\\n', '\\n')\n",
      "\n",
      "  # Write the modified content to the output file\n",
      "  if output_file:\n",
      "    with open(output_file, 'w', encoding='utf-8') as f:\n",
      "      f.write(content)\n",
      "  else:\n",
      "    with open(input_file, 'w', encoding='utf-8') as f:\n",
      "      f.write(content)\n",
      "\n",
      "# Example usage:\n",
      "input_file = 'my_dos_file.txt'\n",
      "output_file = 'my_linux_file.txt'\n",
      "\n",
      "dos2unix(input_file, output_file)\n",
      "```\n",
      "\n",
      "**Explanation:**\n",
      "\n",
      "1. **Import `os` module:** This module provides functions for interacting with the operating system, including file operations.\n",
      "2. **`dos2unix` function:**\n",
      "   - Takes `input_file` and optional `output_file` as arguments.\n",
      "   - Opens the input file in read mode (`'r'`) with `latin-1` encoding, which is commonly used for DOS files.\n",
      "   - Reads the entire file content into the `content` variable.\n",
      "   - Replaces all occurrences of `\\r\\n` (carriage return followed by newline) with `\\n` (newline).\n",
      "   - Opens the output file in write mode (`'w'`) with `utf-8` encoding, which is a common encoding for Linux files.\n",
      "   - Writes the modified content to the output file. If `output_file` is not provided, the input file is overwritten.\n",
      "3. **Example usage:**\n",
      "   - Sets `input_file` and `output_file` variables to the desired file paths.\n",
      "   - Calls the `dos2unix` function to convert the file.\n",
      "\n",
      "**Note:**\n",
      "\n",
      "- This code assumes that the input file is in DOS format (using CRLF line endings).\n",
      "- The `latin-1` encoding is used for reading the input file, as it is a common encoding for DOS files.\n",
      "- The `utf-8` encoding is used for writing the output file, as it is a common encoding for Linux files.\n",
      "- If you encounter issues with encoding, you may need to adjust the encoding used for reading and writing the files.\n",
      "- You can use this code to convert multiple files by iterating over a list of file paths.\n",
      "\n"
     ]
    }
   ],
   "source": [
    "import google.generativeai as genai\n",
    "import os\n",
    "from dotenv import load_dotenv\n",
    "\n",
    "def setup_genai():\n",
    "    \"\"\"Set up the Generative AI configuration.\"\"\"\n",
    "    load_dotenv()\n",
    "    genai.configure(api_key=os.environ[\"GOOGLE_API_KEY\"])\n",
    "\n",
    "def create_code_generation_model():\n",
    "    \"\"\"Create and return a code generation model.\"\"\"\n",
    "    code_generation_system_prompt = \"\"\"\n",
    "    You are a coding assistant. Your task is to generate a code snippet that accomplishes a specific goal.\n",
    "    The code snippet must be concise, efficient, and well-commented for clarity.\n",
    "    Consider any constraints or requirements provided for the task.\n",
    "\n",
    "    If the task does not specify a programming language, default to Python.\n",
    "    \"\"\"\n",
    "    return genai.GenerativeModel(\n",
    "        model_name='gemini-1.5-flash-latest',\n",
    "        generation_config={\"temperature\": 0},\n",
    "        system_instruction=code_generation_system_prompt\n",
    "    )\n",
    "\n",
    "def generate_code(prompt):\n",
    "    \"\"\"Generate code based on the provided prompt.\"\"\"\n",
    "    model = create_code_generation_model()\n",
    "    response = model.generate_content(prompt)\n",
    "    return response.text\n",
    "\n",
    "def main():\n",
    "    setup_genai()\n",
    "    code_generation_prompt = 'write code to convert text format from DOS to Linux'\n",
    "    generated_code = generate_code(code_generation_prompt)\n",
    "    print(generated_code)\n",
    "\n",
    "#run from cli\n",
    "#if __name__ == \"__main__\":\n",
    "    #main()\n",
    "\n",
    "#run in notebook\n",
    "main()"
   ]
  },
  {
   "cell_type": "markdown",
   "metadata": {
    "id": "AiGF8I290YzL"
   },
   "source": [
    "## Conclusion\n",
    "\n",
    "In this demonstration, we explored the capabilities of the Gemini API for both error handling and code generation tasks, showcasing its potential to streamline coding processes and enhance troubleshooting efforts.\n",
    "\n",
    "**Error Handling:**\n",
    "We learned how to configure the Gemini API to handle and explain errors. By providing the system with error messages and using a model designed for error diagnosis, we can receive detailed explanations and solutions for various coding issues. The example of handling error illustrated the model's ability to provide practical advice for correcting out-of-range list accesses, emphasizing the importance of checking index bounds and using appropriate indexing techniques.\n",
    "\n",
    "**Code Generation:**\n",
    "The demonstration also covered how to generate code snippets using the Gemini API. We saw how the model can produce well-commented and efficient code based on specific prompts. For instance, generating a function to convert text file formats from DOS to Linux showed the model’s proficiency in understanding and executing coding tasks. This feature is particularly useful for automating repetitive coding tasks and generating boilerplate code efficiently.\n",
    "\n",
    "**Reusable Tools:**\n",
    "We developed reusable tools for both error troubleshooting and code generation. The `troubleshoot_error` function encapsulates the error-handling process, making it easy to troubleshoot different errors by simply providing the error message. Similarly, the `generate_code` function simplifies code generation by taking a prompt and producing the corresponding code snippet.\n",
    "\n",
    "Overall, the Gemini API's capabilities in error handling and code generation highlight its potential to improve productivity and accuracy in coding tasks. By integrating these tools into your workflow, you can streamline error resolution and code creation processes, leading to more efficient and effective development practices.\n"
   ]
  },
  {
   "cell_type": "code",
   "execution_count": null,
   "metadata": {},
   "outputs": [],
   "source": []
  }
 ],
 "metadata": {
  "colab": {
   "name": "Basic_Code_Generation.ipynb",
   "toc_visible": true
  },
  "kernelspec": {
   "display_name": "Python 3 (ipykernel)",
   "language": "python",
   "name": "python3"
  },
  "language_info": {
   "codemirror_mode": {
    "name": "ipython",
    "version": 3
   },
   "file_extension": ".py",
   "mimetype": "text/x-python",
   "name": "python",
   "nbconvert_exporter": "python",
   "pygments_lexer": "ipython3",
   "version": "3.10.12"
  }
 },
 "nbformat": 4,
 "nbformat_minor": 4
}
