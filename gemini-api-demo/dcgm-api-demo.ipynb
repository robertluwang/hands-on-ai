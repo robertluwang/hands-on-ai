{
 "cells": [
  {
   "cell_type": "code",
   "execution_count": 1,
   "metadata": {},
   "outputs": [],
   "source": [
    "import sys\n",
    "sys.path.append('..')\n",
    "\n",
    "import dclib_py.ai.gemini as dcgm"
   ]
  },
  {
   "cell_type": "code",
   "execution_count": null,
   "metadata": {},
   "outputs": [],
   "source": [
    "dcgm.api_key()"
   ]
  },
  {
   "cell_type": "code",
   "execution_count": 3,
   "metadata": {},
   "outputs": [
    {
     "name": "stdout",
     "output_type": "stream",
     "text": [
      "models/gemini-1.0-pro-latest\n",
      "models/gemini-1.0-pro\n",
      "models/gemini-pro\n",
      "models/gemini-1.0-pro-001\n",
      "models/gemini-1.0-pro-vision-latest\n",
      "models/gemini-pro-vision\n",
      "models/gemini-1.5-pro-latest\n",
      "models/gemini-1.5-pro-001\n",
      "models/gemini-1.5-pro\n",
      "models/gemini-1.5-pro-exp-0801\n",
      "models/gemini-1.5-flash-latest\n",
      "models/gemini-1.5-flash-001\n",
      "models/gemini-1.5-flash\n",
      "models/gemini-1.5-flash-001-tuning\n"
     ]
    }
   ],
   "source": [
    "dcgm.list_models()"
   ]
  },
  {
   "cell_type": "code",
   "execution_count": 5,
   "metadata": {},
   "outputs": [],
   "source": [
    "model = dcgm.genai.GenerativeModel('gemini-1.5-flash')"
   ]
  },
  {
   "cell_type": "code",
   "execution_count": 6,
   "metadata": {},
   "outputs": [
    {
     "name": "stdout",
     "output_type": "stream",
     "text": [
      "Why did the AI get fired from its job at the library? \n",
      "\n",
      "Because it was always getting lost in the Dewey Decimal System! \n",
      "\n"
     ]
    }
   ],
   "source": [
    "response = model.generate_content(\"tell a joke about AI\")\n",
    "print(response.text)"
   ]
  },
  {
   "cell_type": "code",
   "execution_count": 7,
   "metadata": {},
   "outputs": [
    {
     "data": {
      "text/plain": [
       "response:\n",
       "GenerateContentResponse(\n",
       "    done=True,\n",
       "    iterator=None,\n",
       "    result=protos.GenerateContentResponse({\n",
       "      \"candidates\": [\n",
       "        {\n",
       "          \"content\": {\n",
       "            \"parts\": [\n",
       "              {\n",
       "                \"text\": \"Why did the AI get fired from its job at the library? \\n\\nBecause it was always getting lost in the Dewey Decimal System! \\n\"\n",
       "              }\n",
       "            ],\n",
       "            \"role\": \"model\"\n",
       "          },\n",
       "          \"finish_reason\": \"STOP\",\n",
       "          \"index\": 0,\n",
       "          \"safety_ratings\": [\n",
       "            {\n",
       "              \"category\": \"HARM_CATEGORY_SEXUALLY_EXPLICIT\",\n",
       "              \"probability\": \"NEGLIGIBLE\"\n",
       "            },\n",
       "            {\n",
       "              \"category\": \"HARM_CATEGORY_HATE_SPEECH\",\n",
       "              \"probability\": \"NEGLIGIBLE\"\n",
       "            },\n",
       "            {\n",
       "              \"category\": \"HARM_CATEGORY_HARASSMENT\",\n",
       "              \"probability\": \"NEGLIGIBLE\"\n",
       "            },\n",
       "            {\n",
       "              \"category\": \"HARM_CATEGORY_DANGEROUS_CONTENT\",\n",
       "              \"probability\": \"NEGLIGIBLE\"\n",
       "            }\n",
       "          ]\n",
       "        }\n",
       "      ],\n",
       "      \"usage_metadata\": {\n",
       "        \"prompt_token_count\": 6,\n",
       "        \"candidates_token_count\": 27,\n",
       "        \"total_token_count\": 33\n",
       "      }\n",
       "    }),\n",
       ")"
      ]
     },
     "execution_count": 7,
     "metadata": {},
     "output_type": "execute_result"
    }
   ],
   "source": [
    "response"
   ]
  },
  {
   "cell_type": "code",
   "execution_count": 8,
   "metadata": {},
   "outputs": [
    {
     "data": {
      "text/markdown": [
       "> Why did the AI get fired from its job at the library? \n",
       "> \n",
       "> Because it was always getting lost in the Dewey Decimal System! \n"
      ],
      "text/plain": [
       "<IPython.core.display.Markdown object>"
      ]
     },
     "execution_count": 8,
     "metadata": {},
     "output_type": "execute_result"
    }
   ],
   "source": [
    "dcgm.to_markdown(response.text)"
   ]
  },
  {
   "cell_type": "code",
   "execution_count": 8,
   "metadata": {},
   "outputs": [],
   "source": [
    "response = model.generate_content(\"What is genAI?\", stream=True)"
   ]
  },
  {
   "cell_type": "code",
   "execution_count": 9,
   "metadata": {},
   "outputs": [
    {
     "name": "stdout",
     "output_type": "stream",
     "text": [
      "##\n",
      "________________________________________________________________________________\n",
      " GenAI: The Art of Artificial Intelligence Creativity\n",
      "\n",
      "GenAI, short for **\n",
      "________________________________________________________________________________\n",
      "Generative Artificial Intelligence**, is a subset of AI that focuses on creating new content\n",
      "________________________________________________________________________________\n",
      ", like:\n",
      "\n",
      "* **Text:** Writing articles, poems, code, scripts, and more. \n",
      "* **Images:** Creating realistic or stylized images from\n",
      "________________________________________________________________________________\n",
      " text descriptions.\n",
      "* **Audio:** Generating music, speech, and sound effects.\n",
      "* **Video:** Producing videos and animations.\n",
      "* **3D\n",
      "________________________________________________________________________________\n",
      " Models:** Building complex 3D objects.\n",
      "\n",
      "GenAI models are trained on vast amounts of data and learn patterns within it. They can then use this knowledge to generate new content that is similar to the data they were trained on. \n",
      "________________________________________________________________________________\n",
      "\n",
      "\n",
      "Here are some key aspects of GenAI:\n",
      "\n",
      "* **Creativity:** GenAI models can produce novel and unique content, going beyond simply mimicking existing work.\n",
      "* **Efficiency:** They can generate content much faster than humans, saving time\n",
      "________________________________________________________________________________\n",
      " and resources.\n",
      "* **Customization:** Users can often control the parameters of the generation process to tailor the output to their specific needs.\n",
      "\n",
      "**Examples of GenAI applications:**\n",
      "\n",
      "* **ChatGPT:** A language model that generates human-like text for conversations.\n",
      "* **DALL-E 2:** A\n",
      "________________________________________________________________________________\n",
      " model that creates images from text descriptions.\n",
      "* **Stable Diffusion:** An open-source image generation model.\n",
      "* **Jukebox:** A model that generates music in different genres and styles.\n",
      "* **Midjourney:** A popular AI art generator accessible through a Discord server.\n",
      "\n",
      "**Potential benefits of GenAI:**\n",
      "________________________________________________________________________________\n",
      "\n",
      "\n",
      "* **Increased productivity:** Automating content creation tasks.\n",
      "* **Enhanced creativity:** Enabling new forms of artistic expression.\n",
      "* **Personalized experiences:** Generating tailored content for individual users.\n",
      "* **Accessibility:** Making content creation tools available to a wider audience.\n",
      "\n",
      "**Challenges of GenAI:**\n",
      "\n",
      "* **Ethical\n",
      "________________________________________________________________________________\n",
      " concerns:** Potential misuse for misinformation or harmful content.\n",
      "* **Bias and fairness:**  Models can reflect biases present in the training data.\n",
      "* **Copyright and ownership:** Determining the ownership of generated content.\n",
      "\n",
      "Overall, GenAI is a rapidly evolving field with the potential to revolutionize how we create and consume content\n",
      "________________________________________________________________________________\n",
      ". It offers exciting possibilities but also raises important questions about its ethical implications and future development. \n",
      "\n",
      "________________________________________________________________________________\n"
     ]
    }
   ],
   "source": [
    "for chunk in response:\n",
    "  print(chunk.text)\n",
    "  print(\"_\"*80)"
   ]
  },
  {
   "cell_type": "code",
   "execution_count": 10,
   "metadata": {},
   "outputs": [
    {
     "name": "stdout",
     "output_type": "stream",
     "text": [
      "Welcome to GeminiChatbot! ('/q' to exit)\n",
      "\n",
      "1 Chatbot: Hello! 👋 How can I help you today? \n",
      "\n",
      "2 Chatbot: Why don't scientists trust atoms? \n",
      "\n",
      "Because they make up everything! 😜 \n",
      "\n",
      "3 Chatbot: Why did the scarecrow win an award? \n",
      "\n",
      "Because he was outstanding in his field! 🌾 \n",
      "\n",
      "4 Chatbot: The first joke was: \n",
      "\n",
      "Why don't scientists trust atoms? \n",
      "\n",
      "Because they make up everything! 😜 \n",
      "\n",
      "chat log file: ./log/chat-log-2024-08-19_07-19-50.txt\n",
      "Chat history saved. Exiting.\n"
     ]
    }
   ],
   "source": [
    "chatbot = dcgm.GeminiChatbot()\n",
    "chatbot.chat()"
   ]
  }
 ],
 "metadata": {
  "kernelspec": {
   "display_name": "Python 3 (ipykernel)",
   "language": "python",
   "name": "python3"
  },
  "language_info": {
   "codemirror_mode": {
    "name": "ipython",
    "version": 3
   },
   "file_extension": ".py",
   "mimetype": "text/x-python",
   "name": "python",
   "nbconvert_exporter": "python",
   "pygments_lexer": "ipython3",
   "version": "3.10.12"
  }
 },
 "nbformat": 4,
 "nbformat_minor": 4
}
