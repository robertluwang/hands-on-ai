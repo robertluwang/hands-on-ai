{
 "cells": [
  {
   "cell_type": "markdown",
   "metadata": {},
   "source": [
    "# Gemini audio demo\n",
    "\n",
    "- Describe, summarize, or answer questions about the audio content\n",
    "- Provide a transcription of the audio\n",
    "- Provide answers or a transcription about a specific segment of the audio"
   ]
  },
  {
   "cell_type": "markdown",
   "metadata": {},
   "source": [
    "## support audio format\n",
    "\n",
    "- WAV - audio/wav\n",
    "- MP3 - audio/mp3\n",
    "- AIFF - audio/aiff\n",
    "- AAC - audio/aac\n",
    "- OGG Vorbis - audio/ogg\n",
    "- FLAC - audio/flac"
   ]
  },
  {
   "cell_type": "markdown",
   "metadata": {},
   "source": [
    "## Setup"
   ]
  },
  {
   "cell_type": "code",
   "execution_count": 1,
   "metadata": {},
   "outputs": [],
   "source": [
    "import google.generativeai as genai\n",
    "import os\n",
    "\n",
    "from dotenv import load_dotenv\n",
    "\n",
    "load_dotenv()\n",
    "\n",
    "genai.configure(api_key=os.environ[\"GOOGLE_API_KEY\"])"
   ]
  },
  {
   "cell_type": "markdown",
   "metadata": {},
   "source": [
    "## Upload audio file"
   ]
  },
  {
   "cell_type": "code",
   "execution_count": 2,
   "metadata": {},
   "outputs": [
    {
     "name": "stdout",
     "output_type": "stream",
     "text": [
      "  % Total    % Received % Xferd  Average Speed   Time    Time     Time  Current\n",
      "                                 Dload  Upload   Total   Spent    Left  Speed\n",
      "100 39.8M  100 39.8M    0     0  3338k      0  0:00:12  0:00:12 --:--:-- 4017k\n"
     ]
    }
   ],
   "source": [
    "!curl -o sample.mp3 https://storage.googleapis.com/generativeai-downloads/data/State_of_the_Union_Address_30_January_1961.mp3"
   ]
  },
  {
   "cell_type": "code",
   "execution_count": null,
   "metadata": {},
   "outputs": [],
   "source": [
    "!pwd\n",
    "!ls -ltr | grep mp3"
   ]
  },
  {
   "cell_type": "code",
   "execution_count": 4,
   "metadata": {},
   "outputs": [
    {
     "data": {
      "text/plain": [
       "genai.File({\n",
       "    'name': 'files/pwckvrfdwzrz',\n",
       "    'display_name': 'sample.mp3',\n",
       "    'mime_type': 'audio/mpeg',\n",
       "    'sha256_hash': 'MGU3ZmFmZTE5ODRhZWQyNGMxNWJlMDc4OWEzNWU2MGM1YWYwYzczNzNiOWVkOWYyNjMxMzE2NzQwYTRiOWVlNg==',\n",
       "    'size_bytes': '41762063',\n",
       "    'state': 'ACTIVE',\n",
       "    'uri': 'https://generativelanguage.googleapis.com/v1beta/files/pwckvrfdwzrz',\n",
       "    'create_time': '2024-07-28T03:57:50.457186Z',\n",
       "    'expiration_time': '2024-07-30T03:57:50.444958949Z',\n",
       "    'update_time': '2024-07-28T03:57:50.457186Z'})"
      ]
     },
     "execution_count": 4,
     "metadata": {},
     "output_type": "execute_result"
    }
   ],
   "source": [
    "# Upload the file.\n",
    "audio_file = genai.upload_file(path='sample.mp3')\n",
    "audio_file"
   ]
  },
  {
   "cell_type": "code",
   "execution_count": 5,
   "metadata": {},
   "outputs": [
    {
     "name": "stdout",
     "output_type": "stream",
     "text": [
      "sample.mp3, URI: https://generativelanguage.googleapis.com/v1beta/files/pwckvrfdwzrz\n",
      "sample.mp3, URI: https://generativelanguage.googleapis.com/v1beta/files/6e64qsy4tbuj\n"
     ]
    }
   ],
   "source": [
    "# List all uploaded files.\n",
    "for file in genai.list_files():\n",
    "    print(f\"{file.display_name}, URI: {file.uri}\")"
   ]
  },
  {
   "cell_type": "markdown",
   "metadata": {},
   "source": [
    "## Summarize audio"
   ]
  },
  {
   "cell_type": "code",
   "execution_count": 7,
   "metadata": {},
   "outputs": [
    {
     "name": "stdout",
     "output_type": "stream",
     "text": [
      "response:\n",
      "GenerateContentResponse(\n",
      "    done=True,\n",
      "    iterator=None,\n",
      "    result=protos.GenerateContentResponse({\n",
      "      \"candidates\": [\n",
      "        {\n",
      "          \"content\": {\n",
      "            \"parts\": [\n",
      "              {\n",
      "                \"text\": \"This is President John F. Kennedy\\u2019s State of the Union address delivered to a joint session of Congress on January 30th, 1961. The address covers the current state of the economy, international relations, and the executive branch. The president begins with an optimistic outlook and a reminder of the strength of the US, but he acknowledges the need for change in order to address the challenges ahead. The address touches upon domestic issues such as unemployment, housing, education, and health care, and it emphasizes the importance of taking action to address these problems. Kennedy then shifts focus to international affairs, highlighting the Cold War, the situation in Laos and the Congo, and the need for a strong national defense. He emphasizes the importance of working with allies and promoting economic development, particularly in Latin America. The president concludes with a call for dedication and perseverance, reminding the nation that the challenges ahead require the collective effort of all citizens. He concludes with a reference to the words of a great president, emphasizing the importance of working towards a brighter future. \"\n",
      "              }\n",
      "            ],\n",
      "            \"role\": \"model\"\n",
      "          },\n",
      "          \"finish_reason\": \"STOP\",\n",
      "          \"index\": 0,\n",
      "          \"safety_ratings\": [\n",
      "            {\n",
      "              \"category\": \"HARM_CATEGORY_SEXUALLY_EXPLICIT\",\n",
      "              \"probability\": \"NEGLIGIBLE\"\n",
      "            },\n",
      "            {\n",
      "              \"category\": \"HARM_CATEGORY_HATE_SPEECH\",\n",
      "              \"probability\": \"NEGLIGIBLE\"\n",
      "            },\n",
      "            {\n",
      "              \"category\": \"HARM_CATEGORY_HARASSMENT\",\n",
      "              \"probability\": \"NEGLIGIBLE\"\n",
      "            },\n",
      "            {\n",
      "              \"category\": \"HARM_CATEGORY_DANGEROUS_CONTENT\",\n",
      "              \"probability\": \"NEGLIGIBLE\"\n",
      "            }\n",
      "          ]\n",
      "        }\n",
      "      ],\n",
      "      \"usage_metadata\": {\n",
      "        \"prompt_token_count\": 83558,\n",
      "        \"candidates_token_count\": 212,\n",
      "        \"total_token_count\": 83770\n",
      "      }\n",
      "    }),\n",
      ")\n",
      "This is President John F. Kennedy’s State of the Union address delivered to a joint session of Congress on January 30th, 1961. The address covers the current state of the economy, international relations, and the executive branch. The president begins with an optimistic outlook and a reminder of the strength of the US, but he acknowledges the need for change in order to address the challenges ahead. The address touches upon domestic issues such as unemployment, housing, education, and health care, and it emphasizes the importance of taking action to address these problems. Kennedy then shifts focus to international affairs, highlighting the Cold War, the situation in Laos and the Congo, and the need for a strong national defense. He emphasizes the importance of working with allies and promoting economic development, particularly in Latin America. The president concludes with a call for dedication and perseverance, reminding the nation that the challenges ahead require the collective effort of all citizens. He concludes with a reference to the words of a great president, emphasizing the importance of working towards a brighter future. \n"
     ]
    }
   ],
   "source": [
    "model = genai.GenerativeModel(model_name=\"gemini-1.5-flash\")\n",
    "\n",
    "prompt = \"Summarize the speech.\"\n",
    "\n",
    "response = model.generate_content([prompt, audio_file])\n",
    "print(response)\n",
    "model.count_tokens([audio_file])\n",
    "print(response.text)"
   ]
  },
  {
   "cell_type": "markdown",
   "metadata": {},
   "source": [
    "## Get a transcript of the audio file\n",
    "https://github.com/google-gemini/generative-ai-python/issues/336 seems known issue"
   ]
  },
  {
   "cell_type": "code",
   "execution_count": null,
   "metadata": {},
   "outputs": [],
   "source": [
    "model = genai.GenerativeModel(model_name=\"gemini-1.5-pro\")\n",
    "\n",
    "prompt = \"Generate a transcript of the speech.\"\n",
    "\n",
    "response = model.generate_content([prompt, audio_file])\n",
    "print(response)\n",
    "print(response.text)"
   ]
  },
  {
   "cell_type": "code",
   "execution_count": null,
   "metadata": {},
   "outputs": [],
   "source": [
    "prompt = \"Provide a transcript of the speech from 02:30 to 03:29.\"\n",
    "response = model.generate_content([prompt, audio_file])\n",
    "print(response.text)"
   ]
  },
  {
   "cell_type": "markdown",
   "metadata": {},
   "source": [
    "## Manage uploaded file"
   ]
  },
  {
   "cell_type": "code",
   "execution_count": null,
   "metadata": {},
   "outputs": [],
   "source": [
    "# List all uploaded files.\n",
    "for file in genai.list_files():\n",
    "    print(f\"{file.display_name}, URI: {file.uri}\")"
   ]
  },
  {
   "cell_type": "code",
   "execution_count": null,
   "metadata": {},
   "outputs": [],
   "source": [
    "for file in genai.list_files():\n",
    "    genai.delete_file(file)\n",
    "    print(f'Deleted file {file.uri}')"
   ]
  },
  {
   "cell_type": "markdown",
   "metadata": {},
   "source": [
    "## audio file as inline data"
   ]
  },
  {
   "cell_type": "code",
   "execution_count": null,
   "metadata": {},
   "outputs": [],
   "source": [
    "# Download an audio file from a remote server to a cache directory on your local host.\n",
    "!curl -o samplesmall.mp3 https://storage.googleapis.com/generativeai-downloads/data/Apollo-11_Day-01-Highlights-10s.mp3"
   ]
  },
  {
   "cell_type": "code",
   "execution_count": null,
   "metadata": {},
   "outputs": [],
   "source": [
    "import pathlib\n",
    "\n",
    "model = genai.GenerativeModel('models/gemini-1.5-flash')\n",
    "\n",
    "prompt = \"Please summarize the audio.\"\n",
    "\n",
    "response = model.generate_content([\n",
    "    prompt,\n",
    "    {\n",
    "        \"mime_type\": \"audio/mp3\",\n",
    "        \"data\": pathlib.Path('samplesmall.mp3').read_bytes()\n",
    "    }\n",
    "])\n",
    "\n",
    "print(response.text)"
   ]
  }
 ],
 "metadata": {
  "kernelspec": {
   "display_name": "Python 3 (ipykernel)",
   "language": "python",
   "name": "python3"
  },
  "language_info": {
   "codemirror_mode": {
    "name": "ipython",
    "version": 3
   },
   "file_extension": ".py",
   "mimetype": "text/x-python",
   "name": "python",
   "nbconvert_exporter": "python",
   "pygments_lexer": "ipython3",
   "version": "3.10.12"
  }
 },
 "nbformat": 4,
 "nbformat_minor": 4
}
