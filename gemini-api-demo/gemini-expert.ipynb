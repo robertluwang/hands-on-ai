{
 "cells": [
  {
   "cell_type": "markdown",
   "metadata": {},
   "source": [
    "# Build an expert using Gemini Flash 1.5 "
   ]
  },
  {
   "cell_type": "markdown",
   "metadata": {},
   "source": [
    "Here is demo how to create a general tool that can be customized to handle various expert systems."
   ]
  },
  {
   "cell_type": "code",
   "execution_count": 2,
   "metadata": {},
   "outputs": [
    {
     "name": "stdout",
     "output_type": "stream",
     "text": [
      "Enter your query for the expert:  write a code to convert text format from DOS to Linux\n"
     ]
    },
    {
     "name": "stdout",
     "output_type": "stream",
     "text": [
      "Expert's Answer:\n",
      "```python\n",
      "def dos2unix(input_file, output_file):\n",
      "  \"\"\"Converts a file from DOS to Unix format.\n",
      "\n",
      "  Args:\n",
      "    input_file: The path to the input file.\n",
      "    output_file: The path to the output file.\n",
      "  \"\"\"\n",
      "\n",
      "  with open(input_file, 'rb') as infile, open(output_file, 'wb') as outfile:\n",
      "    for line in infile:\n",
      "      # Replace carriage return and line feed with just line feed\n",
      "      line = line.replace(b'\\r\\n', b'\\n')\n",
      "      outfile.write(line)\n",
      "\n",
      "# Example usage:\n",
      "dos2unix('input.txt', 'output.txt')\n",
      "```\n",
      "\n",
      "**Explanation:**\n",
      "\n",
      "1. **Function Definition:**\n",
      "   - The code defines a function `dos2unix` that takes two arguments: `input_file` (path to the DOS formatted file) and `output_file` (path to the output Unix formatted file).\n",
      "\n",
      "2. **File Handling:**\n",
      "   - It opens the input file in binary read mode (`'rb'`) and the output file in binary write mode (`'wb'`). This ensures that the file contents are read and written as raw bytes, preserving the line endings.\n",
      "\n",
      "3. **Line-by-Line Conversion:**\n",
      "   - The code iterates through each line in the input file using a `for` loop.\n",
      "   - For each line, it replaces the DOS line ending (`\\r\\n`) with the Unix line ending (`\\n`) using the `replace` method.\n",
      "   - The modified line is then written to the output file.\n",
      "\n",
      "4. **Example Usage:**\n",
      "   - The code provides an example of how to use the `dos2unix` function. It calls the function with the input file path (`'input.txt'`) and the output file path (`'output.txt'`).\n",
      "\n",
      "**How to Use:**\n",
      "\n",
      "1. **Save the code:** Save the code as a Python file (e.g., `dos2unix.py`).\n",
      "2. **Run the code:** Open a terminal or command prompt and navigate to the directory where you saved the file. Run the following command:\n",
      "   ```bash\n",
      "   python dos2unix.py\n",
      "   ```\n",
      "   Replace `input.txt` and `output.txt` with the actual file paths.\n",
      "\n",
      "**Note:**\n",
      "\n",
      "- This code assumes that the input file is in DOS format (using `\\r\\n` as line endings).\n",
      "- The output file will be created in Unix format (using `\\n` as line endings).\n",
      "- You can modify the code to handle other file formats or to perform additional conversions as needed.\n",
      "\n"
     ]
    }
   ],
   "source": [
    "import google.generativeai as genai\n",
    "import os\n",
    "from dotenv import load_dotenv\n",
    "\n",
    "def setup_api_key():\n",
    "    \"\"\"Set up the API key for the model.\"\"\"\n",
    "    load_dotenv()\n",
    "    genai.configure(api_key=os.environ[\"GOOGLE_API_KEY\"])\n",
    "\n",
    "def create_expert_model(system_instruction: str) -> genai.GenerativeModel:\n",
    "    \"\"\"Create and return a Generative AI model configured with the provided system instruction.\"\"\"\n",
    "    return genai.GenerativeModel(\n",
    "        model_name='gemini-1.5-flash-latest',\n",
    "        generation_config={\"temperature\": 0},\n",
    "        system_instruction=system_instruction\n",
    "    )\n",
    "\n",
    "def get_expert_answer(model: genai.GenerativeModel, user_input: str) -> str:\n",
    "    \"\"\"\n",
    "    Uses the Generative AI model to generate an answer based on the user input.\n",
    "    \n",
    "    Args:\n",
    "        model (genai.GenerativeModel): The Generative AI model configured with the system instruction.\n",
    "        user_input (str): The input from the user that the expert model will respond to.\n",
    "    \n",
    "    Returns:\n",
    "        str: The expert's answer to the user input, in plain text format.\n",
    "    \"\"\"\n",
    "    response = model.generate_content(user_input).text\n",
    "    return response\n",
    "\n",
    "def main():\n",
    "    setup_api_key()\n",
    "    \n",
    "    # Define the system instruction for the expert model\n",
    "    system_instruction = \"\"\"\n",
    "    You are an expert in a specific field. Your task is to provide precise, detailed, and well-informed answers based on the user input.\n",
    "    \"\"\"\n",
    "    \n",
    "    # Create the expert model with the system instruction\n",
    "    model = create_expert_model(system_instruction)\n",
    "    \n",
    "    # Accept user input\n",
    "    user_input = input(\"Enter your query for the expert: \")\n",
    "    \n",
    "    # Get the expert's answer\n",
    "    expert_answer = get_expert_answer(model, user_input)\n",
    "    \n",
    "    # Print the expert's answer\n",
    "    print(\"Expert's Answer:\")\n",
    "    print(expert_answer)\n",
    "\n",
    "# run from command line\n",
    "#if __name__ == \"__main__\":\n",
    "#    main()\n",
    "\n",
    "# run from notebook\n",
    "main()"
   ]
  },
  {
   "cell_type": "markdown",
   "metadata": {},
   "source": [
    "## Explanation:\n",
    "1. **Setup Function:** `setup_genai()` configures the Generative AI API using the environment variables.\n",
    "2. **Expert Model Creation:** `create_expert_model(system_instruction)` creates a Generative AI model with the given system instruction.\n",
    "3. **Get Expert Answer:** `get_expert_answer(model, user_input)` uses the model to generate a response based on user input.\n",
    "4. **Main Function:** \n",
    "   - Sets up the environment.\n",
    "   - Defines a general system instruction for the expert model.\n",
    "   - Creates the model.\n",
    "   - Accepts user input.\n",
    "   - Retrieves and prints the expert's answer.\n",
    "\n",
    "This tool is flexible and can be adapted for various expert systems by changing the `system_instruction` and model parameters as needed."
   ]
  }
 ],
 "metadata": {
  "kernelspec": {
   "display_name": "Python 3 (ipykernel)",
   "language": "python",
   "name": "python3"
  },
  "language_info": {
   "codemirror_mode": {
    "name": "ipython",
    "version": 3
   },
   "file_extension": ".py",
   "mimetype": "text/x-python",
   "name": "python",
   "nbconvert_exporter": "python",
   "pygments_lexer": "ipython3",
   "version": "3.10.12"
  }
 },
 "nbformat": 4,
 "nbformat_minor": 4
}
