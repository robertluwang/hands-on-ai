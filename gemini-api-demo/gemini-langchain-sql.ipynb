{
 "cells": [
  {
   "cell_type": "markdown",
   "metadata": {
    "id": "ZNM-D0pLXZeR"
   },
   "source": [
    "# Chat with SQL using Gemini+Langchain"
   ]
  },
  {
   "cell_type": "markdown",
   "metadata": {
    "id": "mOGNjAZMwMIk"
   },
   "source": [
    "- Reading an SQL database can be challenging\n",
    "- Accurate prompts enable Gemini models to generate answers based on the data\n",
    "- The Gemini API allows you to retrieve necessary information by chatting with an SQL database\n",
    "\n",
    "Here is demo how to chat with SQL using Gemini API and Langchain data framework."
   ]
  },
  {
   "cell_type": "markdown",
   "metadata": {},
   "source": [
    "## Installation"
   ]
  },
  {
   "cell_type": "code",
   "execution_count": null,
   "metadata": {
    "id": "CaSSapCIcoxy"
   },
   "outputs": [],
   "source": [
    "!pip install -U -q google-generativeai langchain langchain-community langchain-google-genai"
   ]
  },
  {
   "cell_type": "code",
   "execution_count": 2,
   "metadata": {
    "id": "bBoPE7f7cmKA"
   },
   "outputs": [],
   "source": [
    "import sqlite3\n",
    "\n",
    "from langchain.chains import create_sql_query_chain, LLMChain\n",
    "from langchain.prompts import PromptTemplate\n",
    "from langchain_google_genai import ChatGoogleGenerativeAI\n",
    "from langchain_core.output_parsers import StrOutputParser\n",
    "from langchain_community.utilities import SQLDatabase\n",
    "from langchain_community.tools.sql_database.tool import QuerySQLDataBaseTool\n",
    "from operator import itemgetter\n",
    "from langchain_core.runnables import RunnablePassthrough\n",
    "\n",
    "import google.generativeai as genai\n",
    "from IPython.display import Markdown"
   ]
  },
  {
   "cell_type": "markdown",
   "metadata": {},
   "source": [
    "## Setup API key\n",
    "\n",
    "Place below line to .env under current folder, \n",
    "\n",
    "GOOGLE_API_KEY=xxx"
   ]
  },
  {
   "cell_type": "code",
   "execution_count": 4,
   "metadata": {
    "id": "ysayz8skEfBW"
   },
   "outputs": [],
   "source": [
    "import os\n",
    "\n",
    "from dotenv import load_dotenv\n",
    "\n",
    "load_dotenv()\n",
    "\n",
    "genai.configure(api_key=os.environ[\"GOOGLE_API_KEY\"])"
   ]
  },
  {
   "cell_type": "markdown",
   "metadata": {
    "id": "NzyyOcsUR0HO"
   },
   "source": [
    "## Set up sample db\n",
    "\n",
    "1. **Load the California Housing Dataset:** Load the dataset from sklearn.datasets and extract it into a DataFrame.\n"
   ]
  },
  {
   "cell_type": "code",
   "execution_count": 5,
   "metadata": {
    "id": "lK85M4XGRzsM"
   },
   "outputs": [],
   "source": [
    "from sklearn.datasets import fetch_california_housing\n",
    "\n",
    "california_housing_bunch = fetch_california_housing(as_frame=True)\n",
    "california_housing_df = california_housing_bunch.frame"
   ]
  },
  {
   "cell_type": "markdown",
   "metadata": {
    "id": "GIjbnY4X_Kwd"
   },
   "source": [
    "2. **Connect to local SQLite db:** "
   ]
  },
  {
   "cell_type": "code",
   "execution_count": 6,
   "metadata": {
    "id": "1Kbqtjo4V2qM"
   },
   "outputs": [
    {
     "data": {
      "text/plain": [
       "20640"
      ]
     },
     "execution_count": 6,
     "metadata": {},
     "output_type": "execute_result"
    }
   ],
   "source": [
    "conn = sqlite3.connect(\"house.db\")\n",
    "\n",
    "# Write the DataFrame to a SQL table named 'housing'.\n",
    "california_housing_df.to_sql(\"housing\", conn, index=False)"
   ]
  },
  {
   "cell_type": "code",
   "execution_count": 7,
   "metadata": {
    "id": "D7ChiDUmXC3K"
   },
   "outputs": [],
   "source": [
    "# Create an SQLDatabase object\n",
    "db = SQLDatabase.from_uri(\"sqlite:///house.db\")"
   ]
  },
  {
   "cell_type": "markdown",
   "metadata": {
    "id": "jHGQdREVYFxo"
   },
   "source": [
    "## Question to query\n",
    "Asking the LLM to generate queries.\n"
   ]
  },
  {
   "cell_type": "code",
   "execution_count": 8,
   "metadata": {
    "id": "g0xP-OStxDW8"
   },
   "outputs": [
    {
     "data": {
      "text/markdown": [
       "\n",
       "CREATE TABLE housing (\n",
       "\t\"MedInc\" REAL, \n",
       "\t\"HouseAge\" REAL, \n",
       "\t\"AveRooms\" REAL, \n",
       "\t\"AveBedrms\" REAL, \n",
       "\t\"Population\" REAL, \n",
       "\t\"AveOccup\" REAL, \n",
       "\t\"Latitude\" REAL, \n",
       "\t\"Longitude\" REAL, \n",
       "\t\"MedHouseVal\" REAL\n",
       ")\n",
       "\n",
       "/*\n",
       "3 rows from housing table:\n",
       "MedInc\tHouseAge\tAveRooms\tAveBedrms\tPopulation\tAveOccup\tLatitude\tLongitude\tMedHouseVal\n",
       "8.3252\t41.0\t6.984126984126984\t1.0238095238095237\t322.0\t2.5555555555555554\t37.88\t-122.23\t4.526\n",
       "8.3014\t21.0\t6.238137082601054\t0.9718804920913884\t2401.0\t2.109841827768014\t37.86\t-122.22\t3.585\n",
       "7.2574\t52.0\t8.288135593220339\t1.073446327683616\t496.0\t2.8022598870056497\t37.85\t-122.24\t3.521\n",
       "*/"
      ],
      "text/plain": [
       "<IPython.core.display.Markdown object>"
      ]
     },
     "execution_count": 8,
     "metadata": {},
     "output_type": "execute_result"
    }
   ],
   "source": [
    "# you can see what information is available\n",
    "Markdown(db.get_table_info())"
   ]
  },
  {
   "cell_type": "code",
   "execution_count": 9,
   "metadata": {
    "id": "MFnV5-dUaa77"
   },
   "outputs": [],
   "source": [
    "# Define query chain\n",
    "llm = ChatGoogleGenerativeAI(model=\"gemini-1.5-flash-latest\", temperature=0)\n",
    "write_query_chain = create_sql_query_chain(llm, db)"
   ]
  },
  {
   "cell_type": "markdown",
   "metadata": {
    "id": "6EdrtzVX0zcm"
   },
   "source": [
    "The `create_sql_query_chain` provides default prompts for various types of SQL including Oracle, Google SQL, MySQL and more, it is suitable for our task. "
   ]
  },
  {
   "cell_type": "code",
   "execution_count": 10,
   "metadata": {
    "id": "r2TjWih70ro6"
   },
   "outputs": [
    {
     "data": {
      "text/markdown": [
       "You are a SQLite expert. Given an input question, first create a syntactically correct SQLite query to run, then look at the results of the query and return the answer to the input question.\n",
       "Unless the user specifies in the question a specific number of examples to obtain, query for at most {top_k} results using the LIMIT clause as per SQLite. You can order the results to return the most informative data in the database.\n",
       "Never query for all columns from a table. You must query only the columns that are needed to answer the question. Wrap each column name in double quotes (\") to denote them as delimited identifiers.\n",
       "Pay attention to use only the column names you can see in the tables below. Be careful to not query for columns that do not exist. Also, pay attention to which column is in which table.\n",
       "Pay attention to use date('now') function to get the current date, if the question involves \"today\".\n",
       "\n",
       "Use the following format:\n",
       "\n",
       "Question: Question here\n",
       "SQLQuery: SQL Query to run\n",
       "SQLResult: Result of the SQLQuery\n",
       "Answer: Final answer here\n",
       "\n",
       "Only use the following tables:\n",
       "{table_info}\n",
       "\n",
       "Question: {input}"
      ],
      "text/plain": [
       "<IPython.core.display.Markdown object>"
      ]
     },
     "execution_count": 10,
     "metadata": {},
     "output_type": "execute_result"
    }
   ],
   "source": [
    "Markdown(write_query_chain.get_prompts()[0].template)"
   ]
  },
  {
   "cell_type": "code",
   "execution_count": 11,
   "metadata": {
    "id": "dGONOILk0sr2"
   },
   "outputs": [
    {
     "data": {
      "text/plain": [
       "'Question: What is the total population?\\nSQLQuery: SELECT SUM(\"Population\") FROM housing'"
      ]
     },
     "execution_count": 11,
     "metadata": {},
     "output_type": "execute_result"
    }
   ],
   "source": [
    "response = write_query_chain.invoke({\"question\": \"What is the total population?\"})\n",
    "response"
   ]
  },
  {
   "cell_type": "code",
   "execution_count": 12,
   "metadata": {
    "id": "1rwKuD6eYhzv"
   },
   "outputs": [
    {
     "data": {
      "text/plain": [
       "'[(29421840.0,)]'"
      ]
     },
     "execution_count": 12,
     "metadata": {},
     "output_type": "execute_result"
    }
   ],
   "source": [
    "db.run('SELECT SUM(\"Population\") FROM housing')"
   ]
  },
  {
   "cell_type": "markdown",
   "metadata": {
    "id": "Fb_72hgXagco"
   },
   "source": [
    "Great! The SQL query is correct, but it needs proper formatting before it can be executed directly by the database.\n"
   ]
  },
  {
   "cell_type": "markdown",
   "metadata": {
    "id": "3ZOGsW9YcL-I"
   },
   "source": [
    "## Validate the query"
   ]
  },
  {
   "cell_type": "code",
   "execution_count": 13,
   "metadata": {
    "id": "ptuPPTordp6G"
   },
   "outputs": [],
   "source": [
    "validate_prompt = PromptTemplate(\n",
    "    input_variables=[\"not_formatted_query\"],\n",
    "    template=\"\"\"You are going to receive a text that contains a SQL query. Extract that query.\n",
    "    Make sure that it is a valid SQL command that can be passed directly to the Database.\n",
    "    Avoid using Markdown for this task.\n",
    "    Text: {not_formatted_query}\"\"\"\n",
    ")"
   ]
  },
  {
   "cell_type": "code",
   "execution_count": 14,
   "metadata": {
    "id": "5KP9yy1edRfJ"
   },
   "outputs": [
    {
     "data": {
      "text/plain": [
       "'SELECT SUM(\"Population\") FROM housing \\n'"
      ]
     },
     "execution_count": 14,
     "metadata": {},
     "output_type": "execute_result"
    }
   ],
   "source": [
    "validate_chain = write_query_chain | validate_prompt | llm | StrOutputParser()\n",
    "validate_chain.invoke({\"question\": \"What is the total population?\"})"
   ]
  },
  {
   "cell_type": "markdown",
   "metadata": {
    "id": "oskPmggygOJP"
   },
   "source": [
    "## Automatic querying\n",
    "Let's automate the process of querying the database using *QuerySQLDataBaseTool*. This tool can receive text from previous parts of the chain, execute the query, and return the answer.\n"
   ]
  },
  {
   "cell_type": "code",
   "execution_count": 15,
   "metadata": {
    "id": "mTfFkHVgcDuo"
   },
   "outputs": [
    {
     "data": {
      "text/plain": [
       "'[(29421840.0,)]'"
      ]
     },
     "execution_count": 15,
     "metadata": {},
     "output_type": "execute_result"
    }
   ],
   "source": [
    "execute_query = QuerySQLDataBaseTool(db=db)\n",
    "execute_chain = validate_chain | execute_query\n",
    "execute_chain.invoke({\"question\": \"What is the total population?\"})"
   ]
  },
  {
   "cell_type": "markdown",
   "metadata": {
    "id": "amQh9IvQlBH0"
   },
   "source": [
    "## Generate answer\n",
    "You are almost done!\n",
    "\n",
    "To enhance our output, you'll use LLM not only to get the number but to get properly formatted and natural language response."
   ]
  },
  {
   "cell_type": "code",
   "execution_count": 16,
   "metadata": {
    "id": "658lkr4xlD6q"
   },
   "outputs": [
    {
     "data": {
      "text/plain": [
       "'The total population is 29,421,840. \\n'"
      ]
     },
     "execution_count": 16,
     "metadata": {},
     "output_type": "execute_result"
    }
   ],
   "source": [
    "answer_prompt = PromptTemplate.from_template(\n",
    "    \"\"\"You are going to receive a original user question, generated SQL query, and result of said query. You should use this information to answer the original question. Use only information provided to you.\n",
    "\n",
    "Original Question: {question}\n",
    "SQL Query: {query}\n",
    "SQL Result: {result}\n",
    "Answer: \"\"\"\n",
    ")\n",
    "\n",
    "answer_chain = (\n",
    "    RunnablePassthrough.assign(query=validate_chain).assign(\n",
    "        result=itemgetter(\"query\") | execute_query\n",
    "    )\n",
    "    | answer_prompt | llm | StrOutputParser()\n",
    ")\n",
    "\n",
    "answer_chain.invoke({\"question\": \"What is the total population?\"})"
   ]
  },
  {
   "cell_type": "markdown",
   "metadata": {},
   "source": [
    "## Conclusion\n",
    "\n",
    "Chatting with an SQL database using the Gemini API and Langchain framework streamlines the process of querying complex datasets. This approach leverages the capabilities of large language models to generate precise SQL queries from natural language prompts, simplifying database interactions. By integrating these tools, users can efficiently retrieve and analyze data without extensive SQL knowledge, making data-driven decision-making more accessible. This demonstration showcases the potential of combining advanced AI models with robust data frameworks to enhance database querying, providing a powerful tool for users across various fields."
   ]
  },
  {
   "cell_type": "code",
   "execution_count": null,
   "metadata": {},
   "outputs": [],
   "source": []
  }
 ],
 "metadata": {
  "colab": {
   "name": "Chat_with_SQL_using_langchain.ipynb",
   "toc_visible": true
  },
  "kernelspec": {
   "display_name": "Python 3 (ipykernel)",
   "language": "python",
   "name": "python3"
  },
  "language_info": {
   "codemirror_mode": {
    "name": "ipython",
    "version": 3
   },
   "file_extension": ".py",
   "mimetype": "text/x-python",
   "name": "python",
   "nbconvert_exporter": "python",
   "pygments_lexer": "ipython3",
   "version": "3.10.12"
  }
 },
 "nbformat": 4,
 "nbformat_minor": 4
}
